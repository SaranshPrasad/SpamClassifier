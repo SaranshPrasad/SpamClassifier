{
 "cells": [
  {
   "cell_type": "code",
   "execution_count": 1,
   "id": "b2ec1cf1-ef21-4c6d-8424-94e302cecb8f",
   "metadata": {},
   "outputs": [],
   "source": [
    "import numpy as np\n",
    "import pandas as pd\n"
   ]
  },
  {
   "cell_type": "code",
   "execution_count": 2,
   "id": "e0268693-f34d-4cbf-a51b-73eaef42a64e",
   "metadata": {},
   "outputs": [],
   "source": [
    "dataset = pd.read_csv('spam.csv',encoding='ISO-8859-1')"
   ]
  },
  {
   "cell_type": "code",
   "execution_count": 4,
   "id": "8d0de7e0-5e95-4b15-a3e1-edba121c6eb2",
   "metadata": {},
   "outputs": [
    {
     "data": {
      "text/plain": [
       "<bound method NDFrame.head of         v1                                                 v2 Unnamed: 2  \\\n",
       "0      ham  Go until jurong point, crazy.. Available only ...        NaN   \n",
       "1      ham                      Ok lar... Joking wif u oni...        NaN   \n",
       "2     spam  Free entry in 2 a wkly comp to win FA Cup fina...        NaN   \n",
       "3      ham  U dun say so early hor... U c already then say...        NaN   \n",
       "4      ham  Nah I don't think he goes to usf, he lives aro...        NaN   \n",
       "...    ...                                                ...        ...   \n",
       "5567  spam  This is the 2nd time we have tried 2 contact u...        NaN   \n",
       "5568   ham              Will Ì_ b going to esplanade fr home?        NaN   \n",
       "5569   ham  Pity, * was in mood for that. So...any other s...        NaN   \n",
       "5570   ham  The guy did some bitching but I acted like i'd...        NaN   \n",
       "5571   ham                         Rofl. Its true to its name        NaN   \n",
       "\n",
       "     Unnamed: 3 Unnamed: 4  \n",
       "0           NaN        NaN  \n",
       "1           NaN        NaN  \n",
       "2           NaN        NaN  \n",
       "3           NaN        NaN  \n",
       "4           NaN        NaN  \n",
       "...         ...        ...  \n",
       "5567        NaN        NaN  \n",
       "5568        NaN        NaN  \n",
       "5569        NaN        NaN  \n",
       "5570        NaN        NaN  \n",
       "5571        NaN        NaN  \n",
       "\n",
       "[5572 rows x 5 columns]>"
      ]
     },
     "execution_count": 4,
     "metadata": {},
     "output_type": "execute_result"
    }
   ],
   "source": [
    "dataset.head"
   ]
  },
  {
   "cell_type": "code",
   "execution_count": 5,
   "id": "3b268d88-fc2c-4935-863d-43c69a78b165",
   "metadata": {},
   "outputs": [
    {
     "data": {
      "text/html": [
       "<div>\n",
       "<style scoped>\n",
       "    .dataframe tbody tr th:only-of-type {\n",
       "        vertical-align: middle;\n",
       "    }\n",
       "\n",
       "    .dataframe tbody tr th {\n",
       "        vertical-align: top;\n",
       "    }\n",
       "\n",
       "    .dataframe thead th {\n",
       "        text-align: right;\n",
       "    }\n",
       "</style>\n",
       "<table border=\"1\" class=\"dataframe\">\n",
       "  <thead>\n",
       "    <tr style=\"text-align: right;\">\n",
       "      <th></th>\n",
       "      <th>v1</th>\n",
       "      <th>v2</th>\n",
       "      <th>Unnamed: 2</th>\n",
       "      <th>Unnamed: 3</th>\n",
       "      <th>Unnamed: 4</th>\n",
       "    </tr>\n",
       "  </thead>\n",
       "  <tbody>\n",
       "    <tr>\n",
       "      <th>count</th>\n",
       "      <td>5572</td>\n",
       "      <td>5572</td>\n",
       "      <td>50</td>\n",
       "      <td>12</td>\n",
       "      <td>6</td>\n",
       "    </tr>\n",
       "    <tr>\n",
       "      <th>unique</th>\n",
       "      <td>2</td>\n",
       "      <td>5169</td>\n",
       "      <td>43</td>\n",
       "      <td>10</td>\n",
       "      <td>5</td>\n",
       "    </tr>\n",
       "    <tr>\n",
       "      <th>top</th>\n",
       "      <td>ham</td>\n",
       "      <td>Sorry, I'll call later</td>\n",
       "      <td>bt not his girlfrnd... G o o d n i g h t . . .@\"</td>\n",
       "      <td>MK17 92H. 450Ppw 16\"</td>\n",
       "      <td>GNT:-)\"</td>\n",
       "    </tr>\n",
       "    <tr>\n",
       "      <th>freq</th>\n",
       "      <td>4825</td>\n",
       "      <td>30</td>\n",
       "      <td>3</td>\n",
       "      <td>2</td>\n",
       "      <td>2</td>\n",
       "    </tr>\n",
       "  </tbody>\n",
       "</table>\n",
       "</div>"
      ],
      "text/plain": [
       "          v1                      v2  \\\n",
       "count   5572                    5572   \n",
       "unique     2                    5169   \n",
       "top      ham  Sorry, I'll call later   \n",
       "freq    4825                      30   \n",
       "\n",
       "                                               Unnamed: 2  \\\n",
       "count                                                  50   \n",
       "unique                                                 43   \n",
       "top      bt not his girlfrnd... G o o d n i g h t . . .@\"   \n",
       "freq                                                    3   \n",
       "\n",
       "                   Unnamed: 3 Unnamed: 4  \n",
       "count                      12          6  \n",
       "unique                     10          5  \n",
       "top      MK17 92H. 450Ppw 16\"    GNT:-)\"  \n",
       "freq                        2          2  "
      ]
     },
     "execution_count": 5,
     "metadata": {},
     "output_type": "execute_result"
    }
   ],
   "source": [
    "dataset.describe()"
   ]
  },
  {
   "cell_type": "code",
   "execution_count": 7,
   "id": "82bc9a25-4653-4137-ba60-f6227140f80d",
   "metadata": {},
   "outputs": [
    {
     "name": "stdout",
     "output_type": "stream",
     "text": [
      "<class 'pandas.core.frame.DataFrame'>\n",
      "RangeIndex: 5572 entries, 0 to 5571\n",
      "Data columns (total 5 columns):\n",
      " #   Column      Non-Null Count  Dtype \n",
      "---  ------      --------------  ----- \n",
      " 0   v1          5572 non-null   object\n",
      " 1   v2          5572 non-null   object\n",
      " 2   Unnamed: 2  50 non-null     object\n",
      " 3   Unnamed: 3  12 non-null     object\n",
      " 4   Unnamed: 4  6 non-null      object\n",
      "dtypes: object(5)\n",
      "memory usage: 217.8+ KB\n"
     ]
    }
   ],
   "source": [
    "dataset.info()"
   ]
  },
  {
   "cell_type": "code",
   "execution_count": 8,
   "id": "4fb8c79e-3884-479e-9534-d509ce83faf6",
   "metadata": {},
   "outputs": [
    {
     "data": {
      "text/plain": [
       "(5572, 5)"
      ]
     },
     "execution_count": 8,
     "metadata": {},
     "output_type": "execute_result"
    }
   ],
   "source": [
    "dataset.shape\n"
   ]
  },
  {
   "cell_type": "markdown",
   "id": "ae4da126-d286-4e89-9e22-20ea58268d96",
   "metadata": {},
   "source": [
    "# Data Cleaning"
   ]
  },
  {
   "cell_type": "code",
   "execution_count": 9,
   "id": "04ae5aab-f375-46e5-b171-a608e1ebf3df",
   "metadata": {},
   "outputs": [],
   "source": [
    "df = dataset.drop(columns=['Unnamed: 2','Unnamed: 3','Unnamed: 4'])"
   ]
  },
  {
   "cell_type": "code",
   "execution_count": 10,
   "id": "06f94265-96ba-4797-b94f-0d1fd3f94d7c",
   "metadata": {},
   "outputs": [
    {
     "name": "stdout",
     "output_type": "stream",
     "text": [
      "<class 'pandas.core.frame.DataFrame'>\n",
      "RangeIndex: 5572 entries, 0 to 5571\n",
      "Data columns (total 2 columns):\n",
      " #   Column  Non-Null Count  Dtype \n",
      "---  ------  --------------  ----- \n",
      " 0   v1      5572 non-null   object\n",
      " 1   v2      5572 non-null   object\n",
      "dtypes: object(2)\n",
      "memory usage: 87.2+ KB\n"
     ]
    }
   ],
   "source": [
    "df.info()"
   ]
  },
  {
   "cell_type": "code",
   "execution_count": 11,
   "id": "e9a7b72d-6e7a-4621-b935-86904035ad31",
   "metadata": {},
   "outputs": [
    {
     "data": {
      "text/html": [
       "<div>\n",
       "<style scoped>\n",
       "    .dataframe tbody tr th:only-of-type {\n",
       "        vertical-align: middle;\n",
       "    }\n",
       "\n",
       "    .dataframe tbody tr th {\n",
       "        vertical-align: top;\n",
       "    }\n",
       "\n",
       "    .dataframe thead th {\n",
       "        text-align: right;\n",
       "    }\n",
       "</style>\n",
       "<table border=\"1\" class=\"dataframe\">\n",
       "  <thead>\n",
       "    <tr style=\"text-align: right;\">\n",
       "      <th></th>\n",
       "      <th>v1</th>\n",
       "      <th>v2</th>\n",
       "    </tr>\n",
       "  </thead>\n",
       "  <tbody>\n",
       "    <tr>\n",
       "      <th>2363</th>\n",
       "      <td>spam</td>\n",
       "      <td>Fantasy Football is back on your TV. Go to Sky...</td>\n",
       "    </tr>\n",
       "    <tr>\n",
       "      <th>368</th>\n",
       "      <td>ham</td>\n",
       "      <td>Wat uniform? In where get?</td>\n",
       "    </tr>\n",
       "    <tr>\n",
       "      <th>1152</th>\n",
       "      <td>ham</td>\n",
       "      <td>Ok i go change also...</td>\n",
       "    </tr>\n",
       "    <tr>\n",
       "      <th>1520</th>\n",
       "      <td>spam</td>\n",
       "      <td>URGENT! Your Mobile No was awarded a å£2,000 B...</td>\n",
       "    </tr>\n",
       "    <tr>\n",
       "      <th>1038</th>\n",
       "      <td>ham</td>\n",
       "      <td>Edison has rightly said, \\A fool can ask more ...</td>\n",
       "    </tr>\n",
       "  </tbody>\n",
       "</table>\n",
       "</div>"
      ],
      "text/plain": [
       "        v1                                                 v2\n",
       "2363  spam  Fantasy Football is back on your TV. Go to Sky...\n",
       "368    ham                         Wat uniform? In where get?\n",
       "1152   ham                             Ok i go change also...\n",
       "1520  spam  URGENT! Your Mobile No was awarded a å£2,000 B...\n",
       "1038   ham  Edison has rightly said, \\A fool can ask more ..."
      ]
     },
     "execution_count": 11,
     "metadata": {},
     "output_type": "execute_result"
    }
   ],
   "source": [
    "df.sample(5)"
   ]
  },
  {
   "cell_type": "code",
   "execution_count": 12,
   "id": "630625de-a9be-45b3-93ec-3a37575df41a",
   "metadata": {},
   "outputs": [],
   "source": [
    "df.rename(columns={'v1':'target', 'v2':'text'}, inplace=True)"
   ]
  },
  {
   "cell_type": "code",
   "execution_count": 13,
   "id": "f9b92142-0c64-4b1a-816d-d3d601d6ed3b",
   "metadata": {},
   "outputs": [
    {
     "data": {
      "text/html": [
       "<div>\n",
       "<style scoped>\n",
       "    .dataframe tbody tr th:only-of-type {\n",
       "        vertical-align: middle;\n",
       "    }\n",
       "\n",
       "    .dataframe tbody tr th {\n",
       "        vertical-align: top;\n",
       "    }\n",
       "\n",
       "    .dataframe thead th {\n",
       "        text-align: right;\n",
       "    }\n",
       "</style>\n",
       "<table border=\"1\" class=\"dataframe\">\n",
       "  <thead>\n",
       "    <tr style=\"text-align: right;\">\n",
       "      <th></th>\n",
       "      <th>target</th>\n",
       "      <th>text</th>\n",
       "    </tr>\n",
       "  </thead>\n",
       "  <tbody>\n",
       "    <tr>\n",
       "      <th>4029</th>\n",
       "      <td>ham</td>\n",
       "      <td>Cool, I'll text you in a few</td>\n",
       "    </tr>\n",
       "    <tr>\n",
       "      <th>3927</th>\n",
       "      <td>ham</td>\n",
       "      <td>Babe ? I lost you ... Will you try rebooting ?</td>\n",
       "    </tr>\n",
       "    <tr>\n",
       "      <th>2713</th>\n",
       "      <td>ham</td>\n",
       "      <td>Nope i'm not drivin... I neva develop da photo...</td>\n",
       "    </tr>\n",
       "    <tr>\n",
       "      <th>50</th>\n",
       "      <td>ham</td>\n",
       "      <td>What you thinked about me. First time you saw ...</td>\n",
       "    </tr>\n",
       "    <tr>\n",
       "      <th>882</th>\n",
       "      <td>ham</td>\n",
       "      <td>I love to give massages. I use lots of baby oi...</td>\n",
       "    </tr>\n",
       "  </tbody>\n",
       "</table>\n",
       "</div>"
      ],
      "text/plain": [
       "     target                                               text\n",
       "4029    ham                       Cool, I'll text you in a few\n",
       "3927    ham     Babe ? I lost you ... Will you try rebooting ?\n",
       "2713    ham  Nope i'm not drivin... I neva develop da photo...\n",
       "50      ham  What you thinked about me. First time you saw ...\n",
       "882     ham  I love to give massages. I use lots of baby oi..."
      ]
     },
     "execution_count": 13,
     "metadata": {},
     "output_type": "execute_result"
    }
   ],
   "source": [
    "df.sample(5)"
   ]
  },
  {
   "cell_type": "code",
   "execution_count": 14,
   "id": "fffec2bb-2417-4b2a-b84f-09bf409795b5",
   "metadata": {},
   "outputs": [],
   "source": [
    "from sklearn.preprocessing import LabelEncoder\n",
    "encoder = LabelEncoder()"
   ]
  },
  {
   "cell_type": "code",
   "execution_count": 15,
   "id": "0130fcbb-fc67-4460-8780-8d4a812884a8",
   "metadata": {},
   "outputs": [],
   "source": [
    "df['target'] = encoder.fit_transform(df['target'])"
   ]
  },
  {
   "cell_type": "code",
   "execution_count": 16,
   "id": "397273f5-6788-4e32-99b6-0681f67ae2e7",
   "metadata": {},
   "outputs": [
    {
     "data": {
      "text/html": [
       "<div>\n",
       "<style scoped>\n",
       "    .dataframe tbody tr th:only-of-type {\n",
       "        vertical-align: middle;\n",
       "    }\n",
       "\n",
       "    .dataframe tbody tr th {\n",
       "        vertical-align: top;\n",
       "    }\n",
       "\n",
       "    .dataframe thead th {\n",
       "        text-align: right;\n",
       "    }\n",
       "</style>\n",
       "<table border=\"1\" class=\"dataframe\">\n",
       "  <thead>\n",
       "    <tr style=\"text-align: right;\">\n",
       "      <th></th>\n",
       "      <th>target</th>\n",
       "      <th>text</th>\n",
       "    </tr>\n",
       "  </thead>\n",
       "  <tbody>\n",
       "    <tr>\n",
       "      <th>0</th>\n",
       "      <td>0</td>\n",
       "      <td>Go until jurong point, crazy.. Available only ...</td>\n",
       "    </tr>\n",
       "    <tr>\n",
       "      <th>1</th>\n",
       "      <td>0</td>\n",
       "      <td>Ok lar... Joking wif u oni...</td>\n",
       "    </tr>\n",
       "    <tr>\n",
       "      <th>2</th>\n",
       "      <td>1</td>\n",
       "      <td>Free entry in 2 a wkly comp to win FA Cup fina...</td>\n",
       "    </tr>\n",
       "    <tr>\n",
       "      <th>3</th>\n",
       "      <td>0</td>\n",
       "      <td>U dun say so early hor... U c already then say...</td>\n",
       "    </tr>\n",
       "    <tr>\n",
       "      <th>4</th>\n",
       "      <td>0</td>\n",
       "      <td>Nah I don't think he goes to usf, he lives aro...</td>\n",
       "    </tr>\n",
       "  </tbody>\n",
       "</table>\n",
       "</div>"
      ],
      "text/plain": [
       "   target                                               text\n",
       "0       0  Go until jurong point, crazy.. Available only ...\n",
       "1       0                      Ok lar... Joking wif u oni...\n",
       "2       1  Free entry in 2 a wkly comp to win FA Cup fina...\n",
       "3       0  U dun say so early hor... U c already then say...\n",
       "4       0  Nah I don't think he goes to usf, he lives aro..."
      ]
     },
     "execution_count": 16,
     "metadata": {},
     "output_type": "execute_result"
    }
   ],
   "source": [
    "df.head()"
   ]
  },
  {
   "cell_type": "code",
   "execution_count": 17,
   "id": "8b4fe001-e8a5-47a2-bc14-8739adbe6d0f",
   "metadata": {},
   "outputs": [
    {
     "data": {
      "text/plain": [
       "target    0\n",
       "text      0\n",
       "dtype: int64"
      ]
     },
     "execution_count": 17,
     "metadata": {},
     "output_type": "execute_result"
    }
   ],
   "source": [
    "df.isnull().sum()"
   ]
  },
  {
   "cell_type": "code",
   "execution_count": 18,
   "id": "172d7fce-0231-4a04-b594-1613c8b64378",
   "metadata": {},
   "outputs": [
    {
     "data": {
      "text/plain": [
       "403"
      ]
     },
     "execution_count": 18,
     "metadata": {},
     "output_type": "execute_result"
    }
   ],
   "source": [
    "df.duplicated().sum()"
   ]
  },
  {
   "cell_type": "code",
   "execution_count": 19,
   "id": "fc3b871d-1fdc-43ed-aff6-12312e26352b",
   "metadata": {},
   "outputs": [],
   "source": [
    "df.drop_duplicates(keep='first', inplace=True)"
   ]
  },
  {
   "cell_type": "code",
   "execution_count": 20,
   "id": "9da69d8a-3f3c-4b59-9f06-8c7603b4d2fe",
   "metadata": {},
   "outputs": [
    {
     "data": {
      "text/plain": [
       "target\n",
       "0    4516\n",
       "1     653\n",
       "Name: count, dtype: int64"
      ]
     },
     "execution_count": 20,
     "metadata": {},
     "output_type": "execute_result"
    }
   ],
   "source": [
    "df['target'].value_counts()"
   ]
  },
  {
   "cell_type": "code",
   "execution_count": 19,
   "id": "7b358702-fb6e-47d0-b4c9-523e06b2cccb",
   "metadata": {},
   "outputs": [
    {
     "data": {
      "text/plain": [
       "([<matplotlib.patches.Wedge at 0x1442158e660>,\n",
       "  <matplotlib.patches.Wedge at 0x14421330cb0>],\n",
       " [Text(-1.0144997251399075, 0.4251944351600247, 'ham'),\n",
       "  Text(1.014499764949479, -0.4251943401757036, 'spam')],\n",
       " [Text(-0.5533634864399495, 0.23192423736001344, '87.37'),\n",
       "  Text(0.5533635081542612, -0.23192418555038377, '12.63')])"
      ]
     },
     "execution_count": 19,
     "metadata": {},
     "output_type": "execute_result"
    },
    {
     "data": {
      "image/png": "[encoded data removed]",
      "text/plain": [
       "<Figure size 640x480 with 1 Axes>"
      ]
     },
     "metadata": {},
     "output_type": "display_data"
    }
   ],
   "source": [
    "import matplotlib.pyplot as plt\n",
    "plt.pie(df['target'].value_counts(), labels=['ham', 'spam'], autopct='%0.2f')"
   ]
  },
  {
   "cell_type": "code",
   "execution_count": 21,
   "id": "04a6536e-ab67-4188-9f4e-3926038ef23c",
   "metadata": {},
   "outputs": [],
   "source": [
    "import nltk"
   ]
  },
  {
   "cell_type": "code",
   "execution_count": 22,
   "id": "353d5e66-451c-44d6-83f6-9ace67f00bfe",
   "metadata": {},
   "outputs": [
    {
     "name": "stderr",
     "output_type": "stream",
     "text": [
      "[nltk_data] Downloading package punkt to\n",
      "[nltk_data]     C:\\Users\\Saru\\AppData\\Roaming\\nltk_data...\n",
      "[nltk_data]   Package punkt is already up-to-date!\n"
     ]
    },
    {
     "data": {
      "text/plain": [
       "True"
      ]
     },
     "execution_count": 22,
     "metadata": {},
     "output_type": "execute_result"
    }
   ],
   "source": [
    "nltk.download('punkt')"
   ]
  },
  {
   "cell_type": "code",
   "execution_count": 23,
   "id": "4900f4a2-1449-4028-a94a-997e532c54b3",
   "metadata": {},
   "outputs": [],
   "source": [
    "df['num_alpha'] = df['text'].apply(len)"
   ]
  },
  {
   "cell_type": "code",
   "execution_count": 24,
   "id": "f4fc64e2-e766-4845-85e3-52e6dd7eadc8",
   "metadata": {},
   "outputs": [
    {
     "data": {
      "text/html": [
       "<div>\n",
       "<style scoped>\n",
       "    .dataframe tbody tr th:only-of-type {\n",
       "        vertical-align: middle;\n",
       "    }\n",
       "\n",
       "    .dataframe tbody tr th {\n",
       "        vertical-align: top;\n",
       "    }\n",
       "\n",
       "    .dataframe thead th {\n",
       "        text-align: right;\n",
       "    }\n",
       "</style>\n",
       "<table border=\"1\" class=\"dataframe\">\n",
       "  <thead>\n",
       "    <tr style=\"text-align: right;\">\n",
       "      <th></th>\n",
       "      <th>target</th>\n",
       "      <th>text</th>\n",
       "      <th>num_alpha</th>\n",
       "    </tr>\n",
       "  </thead>\n",
       "  <tbody>\n",
       "    <tr>\n",
       "      <th>0</th>\n",
       "      <td>0</td>\n",
       "      <td>Go until jurong point, crazy.. Available only ...</td>\n",
       "      <td>111</td>\n",
       "    </tr>\n",
       "    <tr>\n",
       "      <th>1</th>\n",
       "      <td>0</td>\n",
       "      <td>Ok lar... Joking wif u oni...</td>\n",
       "      <td>29</td>\n",
       "    </tr>\n",
       "    <tr>\n",
       "      <th>2</th>\n",
       "      <td>1</td>\n",
       "      <td>Free entry in 2 a wkly comp to win FA Cup fina...</td>\n",
       "      <td>155</td>\n",
       "    </tr>\n",
       "    <tr>\n",
       "      <th>3</th>\n",
       "      <td>0</td>\n",
       "      <td>U dun say so early hor... U c already then say...</td>\n",
       "      <td>49</td>\n",
       "    </tr>\n",
       "    <tr>\n",
       "      <th>4</th>\n",
       "      <td>0</td>\n",
       "      <td>Nah I don't think he goes to usf, he lives aro...</td>\n",
       "      <td>61</td>\n",
       "    </tr>\n",
       "  </tbody>\n",
       "</table>\n",
       "</div>"
      ],
      "text/plain": [
       "   target                                               text  num_alpha\n",
       "0       0  Go until jurong point, crazy.. Available only ...        111\n",
       "1       0                      Ok lar... Joking wif u oni...         29\n",
       "2       1  Free entry in 2 a wkly comp to win FA Cup fina...        155\n",
       "3       0  U dun say so early hor... U c already then say...         49\n",
       "4       0  Nah I don't think he goes to usf, he lives aro...         61"
      ]
     },
     "execution_count": 24,
     "metadata": {},
     "output_type": "execute_result"
    }
   ],
   "source": [
    "df.head()"
   ]
  },
  {
   "cell_type": "code",
   "execution_count": 25,
   "id": "9f615939-4eea-4664-8b52-60dba7b70c9b",
   "metadata": {},
   "outputs": [],
   "source": [
    "df['num_words'] = df['text'].apply(lambda x:len(nltk.word_tokenize(x)))"
   ]
  },
  {
   "cell_type": "code",
   "execution_count": 26,
   "id": "9c88189c-0c1a-4d59-bcb1-39b41539508b",
   "metadata": {},
   "outputs": [
    {
     "data": {
      "text/html": [
       "<div>\n",
       "<style scoped>\n",
       "    .dataframe tbody tr th:only-of-type {\n",
       "        vertical-align: middle;\n",
       "    }\n",
       "\n",
       "    .dataframe tbody tr th {\n",
       "        vertical-align: top;\n",
       "    }\n",
       "\n",
       "    .dataframe thead th {\n",
       "        text-align: right;\n",
       "    }\n",
       "</style>\n",
       "<table border=\"1\" class=\"dataframe\">\n",
       "  <thead>\n",
       "    <tr style=\"text-align: right;\">\n",
       "      <th></th>\n",
       "      <th>target</th>\n",
       "      <th>text</th>\n",
       "      <th>num_alpha</th>\n",
       "      <th>num_words</th>\n",
       "    </tr>\n",
       "  </thead>\n",
       "  <tbody>\n",
       "    <tr>\n",
       "      <th>0</th>\n",
       "      <td>0</td>\n",
       "      <td>Go until jurong point, crazy.. Available only ...</td>\n",
       "      <td>111</td>\n",
       "      <td>24</td>\n",
       "    </tr>\n",
       "    <tr>\n",
       "      <th>1</th>\n",
       "      <td>0</td>\n",
       "      <td>Ok lar... Joking wif u oni...</td>\n",
       "      <td>29</td>\n",
       "      <td>8</td>\n",
       "    </tr>\n",
       "    <tr>\n",
       "      <th>2</th>\n",
       "      <td>1</td>\n",
       "      <td>Free entry in 2 a wkly comp to win FA Cup fina...</td>\n",
       "      <td>155</td>\n",
       "      <td>37</td>\n",
       "    </tr>\n",
       "    <tr>\n",
       "      <th>3</th>\n",
       "      <td>0</td>\n",
       "      <td>U dun say so early hor... U c already then say...</td>\n",
       "      <td>49</td>\n",
       "      <td>13</td>\n",
       "    </tr>\n",
       "    <tr>\n",
       "      <th>4</th>\n",
       "      <td>0</td>\n",
       "      <td>Nah I don't think he goes to usf, he lives aro...</td>\n",
       "      <td>61</td>\n",
       "      <td>15</td>\n",
       "    </tr>\n",
       "  </tbody>\n",
       "</table>\n",
       "</div>"
      ],
      "text/plain": [
       "   target                                               text  num_alpha  \\\n",
       "0       0  Go until jurong point, crazy.. Available only ...        111   \n",
       "1       0                      Ok lar... Joking wif u oni...         29   \n",
       "2       1  Free entry in 2 a wkly comp to win FA Cup fina...        155   \n",
       "3       0  U dun say so early hor... U c already then say...         49   \n",
       "4       0  Nah I don't think he goes to usf, he lives aro...         61   \n",
       "\n",
       "   num_words  \n",
       "0         24  \n",
       "1          8  \n",
       "2         37  \n",
       "3         13  \n",
       "4         15  "
      ]
     },
     "execution_count": 26,
     "metadata": {},
     "output_type": "execute_result"
    }
   ],
   "source": [
    "df.head()"
   ]
  },
  {
   "cell_type": "code",
   "execution_count": 30,
   "id": "8e371316-021e-4f5f-9659-83a29b83e06e",
   "metadata": {},
   "outputs": [],
   "source": []
  },
  {
   "cell_type": "code",
   "execution_count": 27,
   "id": "14d99d8b-e3df-4961-8dfb-628972d847ad",
   "metadata": {},
   "outputs": [
    {
     "data": {
      "text/html": [
       "<div>\n",
       "<style scoped>\n",
       "    .dataframe tbody tr th:only-of-type {\n",
       "        vertical-align: middle;\n",
       "    }\n",
       "\n",
       "    .dataframe tbody tr th {\n",
       "        vertical-align: top;\n",
       "    }\n",
       "\n",
       "    .dataframe thead th {\n",
       "        text-align: right;\n",
       "    }\n",
       "</style>\n",
       "<table border=\"1\" class=\"dataframe\">\n",
       "  <thead>\n",
       "    <tr style=\"text-align: right;\">\n",
       "      <th></th>\n",
       "      <th>target</th>\n",
       "      <th>text</th>\n",
       "      <th>num_alpha</th>\n",
       "      <th>num_words</th>\n",
       "    </tr>\n",
       "  </thead>\n",
       "  <tbody>\n",
       "    <tr>\n",
       "      <th>0</th>\n",
       "      <td>0</td>\n",
       "      <td>Go until jurong point, crazy.. Available only ...</td>\n",
       "      <td>111</td>\n",
       "      <td>24</td>\n",
       "    </tr>\n",
       "    <tr>\n",
       "      <th>1</th>\n",
       "      <td>0</td>\n",
       "      <td>Ok lar... Joking wif u oni...</td>\n",
       "      <td>29</td>\n",
       "      <td>8</td>\n",
       "    </tr>\n",
       "    <tr>\n",
       "      <th>2</th>\n",
       "      <td>1</td>\n",
       "      <td>Free entry in 2 a wkly comp to win FA Cup fina...</td>\n",
       "      <td>155</td>\n",
       "      <td>37</td>\n",
       "    </tr>\n",
       "    <tr>\n",
       "      <th>3</th>\n",
       "      <td>0</td>\n",
       "      <td>U dun say so early hor... U c already then say...</td>\n",
       "      <td>49</td>\n",
       "      <td>13</td>\n",
       "    </tr>\n",
       "    <tr>\n",
       "      <th>4</th>\n",
       "      <td>0</td>\n",
       "      <td>Nah I don't think he goes to usf, he lives aro...</td>\n",
       "      <td>61</td>\n",
       "      <td>15</td>\n",
       "    </tr>\n",
       "  </tbody>\n",
       "</table>\n",
       "</div>"
      ],
      "text/plain": [
       "   target                                               text  num_alpha  \\\n",
       "0       0  Go until jurong point, crazy.. Available only ...        111   \n",
       "1       0                      Ok lar... Joking wif u oni...         29   \n",
       "2       1  Free entry in 2 a wkly comp to win FA Cup fina...        155   \n",
       "3       0  U dun say so early hor... U c already then say...         49   \n",
       "4       0  Nah I don't think he goes to usf, he lives aro...         61   \n",
       "\n",
       "   num_words  \n",
       "0         24  \n",
       "1          8  \n",
       "2         37  \n",
       "3         13  \n",
       "4         15  "
      ]
     },
     "execution_count": 27,
     "metadata": {},
     "output_type": "execute_result"
    }
   ],
   "source": [
    "df.head()"
   ]
  },
  {
   "cell_type": "code",
   "execution_count": 28,
   "id": "691d292f-6c7a-42fc-8a9c-7cc16d4badb0",
   "metadata": {},
   "outputs": [
    {
     "data": {
      "text/plain": [
       "0       [Go until jurong point, crazy.., Available onl...\n",
       "1                        [Ok lar..., Joking wif u oni...]\n",
       "2       [Free entry in 2 a wkly comp to win FA Cup fin...\n",
       "3       [U dun say so early hor... U c already then sa...\n",
       "4       [Nah I don't think he goes to usf, he lives ar...\n",
       "                              ...                        \n",
       "5567    [This is the 2nd time we have tried 2 contact ...\n",
       "5568              [Will Ì_ b going to esplanade fr home?]\n",
       "5569    [Pity, * was in mood for that., So...any other...\n",
       "5570    [The guy did some bitching but I acted like i'...\n",
       "5571                        [Rofl., Its true to its name]\n",
       "Name: text, Length: 5169, dtype: object"
      ]
     },
     "execution_count": 28,
     "metadata": {},
     "output_type": "execute_result"
    }
   ],
   "source": [
    "df['text'].apply(lambda x:nltk.sent_tokenize(x))"
   ]
  },
  {
   "cell_type": "code",
   "execution_count": 29,
   "id": "2a0c951d-a827-4b57-8f1b-0f670d4f25b6",
   "metadata": {},
   "outputs": [],
   "source": [
    "df['nums_sent'] = df['text'].apply(lambda x:len(nltk.sent_tokenize(x)))"
   ]
  },
  {
   "cell_type": "code",
   "execution_count": 30,
   "id": "7c48b7ed-b60b-4bc8-9aca-2deaff69d080",
   "metadata": {},
   "outputs": [
    {
     "data": {
      "text/html": [
       "<div>\n",
       "<style scoped>\n",
       "    .dataframe tbody tr th:only-of-type {\n",
       "        vertical-align: middle;\n",
       "    }\n",
       "\n",
       "    .dataframe tbody tr th {\n",
       "        vertical-align: top;\n",
       "    }\n",
       "\n",
       "    .dataframe thead th {\n",
       "        text-align: right;\n",
       "    }\n",
       "</style>\n",
       "<table border=\"1\" class=\"dataframe\">\n",
       "  <thead>\n",
       "    <tr style=\"text-align: right;\">\n",
       "      <th></th>\n",
       "      <th>target</th>\n",
       "      <th>text</th>\n",
       "      <th>num_alpha</th>\n",
       "      <th>num_words</th>\n",
       "      <th>nums_sent</th>\n",
       "    </tr>\n",
       "  </thead>\n",
       "  <tbody>\n",
       "    <tr>\n",
       "      <th>0</th>\n",
       "      <td>0</td>\n",
       "      <td>Go until jurong point, crazy.. Available only ...</td>\n",
       "      <td>111</td>\n",
       "      <td>24</td>\n",
       "      <td>2</td>\n",
       "    </tr>\n",
       "    <tr>\n",
       "      <th>1</th>\n",
       "      <td>0</td>\n",
       "      <td>Ok lar... Joking wif u oni...</td>\n",
       "      <td>29</td>\n",
       "      <td>8</td>\n",
       "      <td>2</td>\n",
       "    </tr>\n",
       "    <tr>\n",
       "      <th>2</th>\n",
       "      <td>1</td>\n",
       "      <td>Free entry in 2 a wkly comp to win FA Cup fina...</td>\n",
       "      <td>155</td>\n",
       "      <td>37</td>\n",
       "      <td>2</td>\n",
       "    </tr>\n",
       "    <tr>\n",
       "      <th>3</th>\n",
       "      <td>0</td>\n",
       "      <td>U dun say so early hor... U c already then say...</td>\n",
       "      <td>49</td>\n",
       "      <td>13</td>\n",
       "      <td>1</td>\n",
       "    </tr>\n",
       "    <tr>\n",
       "      <th>4</th>\n",
       "      <td>0</td>\n",
       "      <td>Nah I don't think he goes to usf, he lives aro...</td>\n",
       "      <td>61</td>\n",
       "      <td>15</td>\n",
       "      <td>1</td>\n",
       "    </tr>\n",
       "  </tbody>\n",
       "</table>\n",
       "</div>"
      ],
      "text/plain": [
       "   target                                               text  num_alpha  \\\n",
       "0       0  Go until jurong point, crazy.. Available only ...        111   \n",
       "1       0                      Ok lar... Joking wif u oni...         29   \n",
       "2       1  Free entry in 2 a wkly comp to win FA Cup fina...        155   \n",
       "3       0  U dun say so early hor... U c already then say...         49   \n",
       "4       0  Nah I don't think he goes to usf, he lives aro...         61   \n",
       "\n",
       "   num_words  nums_sent  \n",
       "0         24          2  \n",
       "1          8          2  \n",
       "2         37          2  \n",
       "3         13          1  \n",
       "4         15          1  "
      ]
     },
     "execution_count": 30,
     "metadata": {},
     "output_type": "execute_result"
    }
   ],
   "source": [
    "df.head()"
   ]
  },
  {
   "cell_type": "code",
   "execution_count": 31,
   "id": "06eea763-ae19-46d4-b997-27767168cfb8",
   "metadata": {},
   "outputs": [
    {
     "name": "stderr",
     "output_type": "stream",
     "text": [
      "[nltk_data] Downloading package stopwords to\n",
      "[nltk_data]     C:\\Users\\Saru\\AppData\\Roaming\\nltk_data...\n",
      "[nltk_data]   Package stopwords is already up-to-date!\n"
     ]
    },
    {
     "data": {
      "text/plain": [
       "True"
      ]
     },
     "execution_count": 31,
     "metadata": {},
     "output_type": "execute_result"
    }
   ],
   "source": [
    "df[['num_alpha','num_words', 'nums_sent']].describe()\n",
    "from nltk.corpus import stopwords\n",
    "nltk.download('stopwords')\n"
   ]
  },
  {
   "cell_type": "code",
   "execution_count": 32,
   "id": "c085d44c-2b93-4ac3-9372-e693303df5b5",
   "metadata": {},
   "outputs": [],
   "source": [
    "def transform_text(text):\n",
    "    text = text.lower()\n",
    "    text = nltk.word_tokenize(text)\n",
    "    \n",
    "    y = []\n",
    "    for i in text:\n",
    "        if i.isalnum():\n",
    "            y.append(i)\n",
    "    \n",
    "    text = y[:]\n",
    "    y.clear()\n",
    "    \n",
    "    for i in text:\n",
    "        if i not in stopwords.words('english') and i not in string.punctuation:\n",
    "            y.append(i)\n",
    "            \n",
    "    text = y[:]\n",
    "    y.clear()\n",
    "    \n",
    "    for i in text:\n",
    "        y.append(ps.stem(i))\n",
    "    \n",
    "            \n",
    "    return \" \".join(y)"
   ]
  },
  {
   "cell_type": "code",
   "execution_count": 33,
   "id": "20d75704-1fac-47f3-b8fb-ca2b5533ca27",
   "metadata": {},
   "outputs": [
    {
     "data": {
      "text/plain": [
       "'gon na home soon want talk stuff anymor tonight k cri enough today'"
      ]
     },
     "execution_count": 33,
     "metadata": {},
     "output_type": "execute_result"
    }
   ],
   "source": [
    "import string\n",
    "from nltk.stem.porter import PorterStemmer\n",
    "ps =  PorterStemmer()\n",
    "transform_text(\"I'm gonna be home soon and i don't want to talk about this stuff anymore tonight, k? I've cried enough today.\")\n"
   ]
  },
  {
   "cell_type": "code",
   "execution_count": null,
   "id": "4af5cafb-39f3-43bb-82dd-768aace33921",
   "metadata": {},
   "outputs": [],
   "source": [
    "\n",
    "df['transformed_text'] = df['text'].apply(transform_text)"
   ]
  },
  {
   "cell_type": "code",
   "execution_count": 35,
   "id": "2706c80f-4874-4a35-8547-fc9907f8cecf",
   "metadata": {},
   "outputs": [
    {
     "data": {
      "text/html": [
       "<div>\n",
       "<style scoped>\n",
       "    .dataframe tbody tr th:only-of-type {\n",
       "        vertical-align: middle;\n",
       "    }\n",
       "\n",
       "    .dataframe tbody tr th {\n",
       "        vertical-align: top;\n",
       "    }\n",
       "\n",
       "    .dataframe thead th {\n",
       "        text-align: right;\n",
       "    }\n",
       "</style>\n",
       "<table border=\"1\" class=\"dataframe\">\n",
       "  <thead>\n",
       "    <tr style=\"text-align: right;\">\n",
       "      <th></th>\n",
       "      <th>target</th>\n",
       "      <th>text</th>\n",
       "      <th>num_alpha</th>\n",
       "      <th>num_words</th>\n",
       "      <th>nums_sent</th>\n",
       "      <th>transformed_text</th>\n",
       "    </tr>\n",
       "  </thead>\n",
       "  <tbody>\n",
       "    <tr>\n",
       "      <th>0</th>\n",
       "      <td>0</td>\n",
       "      <td>Go until jurong point, crazy.. Available only ...</td>\n",
       "      <td>111</td>\n",
       "      <td>24</td>\n",
       "      <td>2</td>\n",
       "      <td>go jurong point crazi avail bugi n great world...</td>\n",
       "    </tr>\n",
       "    <tr>\n",
       "      <th>1</th>\n",
       "      <td>0</td>\n",
       "      <td>Ok lar... Joking wif u oni...</td>\n",
       "      <td>29</td>\n",
       "      <td>8</td>\n",
       "      <td>2</td>\n",
       "      <td>ok lar joke wif u oni</td>\n",
       "    </tr>\n",
       "    <tr>\n",
       "      <th>2</th>\n",
       "      <td>1</td>\n",
       "      <td>Free entry in 2 a wkly comp to win FA Cup fina...</td>\n",
       "      <td>155</td>\n",
       "      <td>37</td>\n",
       "      <td>2</td>\n",
       "      <td>free entri 2 wkli comp win fa cup final tkt 21...</td>\n",
       "    </tr>\n",
       "    <tr>\n",
       "      <th>3</th>\n",
       "      <td>0</td>\n",
       "      <td>U dun say so early hor... U c already then say...</td>\n",
       "      <td>49</td>\n",
       "      <td>13</td>\n",
       "      <td>1</td>\n",
       "      <td>u dun say earli hor u c alreadi say</td>\n",
       "    </tr>\n",
       "    <tr>\n",
       "      <th>4</th>\n",
       "      <td>0</td>\n",
       "      <td>Nah I don't think he goes to usf, he lives aro...</td>\n",
       "      <td>61</td>\n",
       "      <td>15</td>\n",
       "      <td>1</td>\n",
       "      <td>nah think goe usf live around though</td>\n",
       "    </tr>\n",
       "  </tbody>\n",
       "</table>\n",
       "</div>"
      ],
      "text/plain": [
       "   target                                               text  num_alpha  \\\n",
       "0       0  Go until jurong point, crazy.. Available only ...        111   \n",
       "1       0                      Ok lar... Joking wif u oni...         29   \n",
       "2       1  Free entry in 2 a wkly comp to win FA Cup fina...        155   \n",
       "3       0  U dun say so early hor... U c already then say...         49   \n",
       "4       0  Nah I don't think he goes to usf, he lives aro...         61   \n",
       "\n",
       "   num_words  nums_sent                                   transformed_text  \n",
       "0         24          2  go jurong point crazi avail bugi n great world...  \n",
       "1          8          2                              ok lar joke wif u oni  \n",
       "2         37          2  free entri 2 wkli comp win fa cup final tkt 21...  \n",
       "3         13          1                u dun say earli hor u c alreadi say  \n",
       "4         15          1               nah think goe usf live around though  "
      ]
     },
     "execution_count": 35,
     "metadata": {},
     "output_type": "execute_result"
    }
   ],
   "source": [
    "\n",
    "df.head()"
   ]
  },
  {
   "cell_type": "code",
   "execution_count": 36,
   "id": "ee656af3-e66c-480e-a69b-9c80f107bc7d",
   "metadata": {},
   "outputs": [],
   "source": [
    "df['transformed_text']=df['text'].apply(transform_text)"
   ]
  },
  {
   "cell_type": "code",
   "execution_count": 39,
   "id": "10d01074-f52e-40e1-b1f0-068ba05c7e27",
   "metadata": {},
   "outputs": [
    {
     "data": {
      "text/html": [
       "<div>\n",
       "<style scoped>\n",
       "    .dataframe tbody tr th:only-of-type {\n",
       "        vertical-align: middle;\n",
       "    }\n",
       "\n",
       "    .dataframe tbody tr th {\n",
       "        vertical-align: top;\n",
       "    }\n",
       "\n",
       "    .dataframe thead th {\n",
       "        text-align: right;\n",
       "    }\n",
       "</style>\n",
       "<table border=\"1\" class=\"dataframe\">\n",
       "  <thead>\n",
       "    <tr style=\"text-align: right;\">\n",
       "      <th></th>\n",
       "      <th>target</th>\n",
       "      <th>text</th>\n",
       "      <th>num_alpha</th>\n",
       "      <th>num_words</th>\n",
       "      <th>nums_sent</th>\n",
       "      <th>transformed_text</th>\n",
       "    </tr>\n",
       "  </thead>\n",
       "  <tbody>\n",
       "    <tr>\n",
       "      <th>0</th>\n",
       "      <td>0</td>\n",
       "      <td>Go until jurong point, crazy.. Available only ...</td>\n",
       "      <td>111</td>\n",
       "      <td>24</td>\n",
       "      <td>2</td>\n",
       "      <td>go jurong point crazi avail bugi n great world...</td>\n",
       "    </tr>\n",
       "    <tr>\n",
       "      <th>1</th>\n",
       "      <td>0</td>\n",
       "      <td>Ok lar... Joking wif u oni...</td>\n",
       "      <td>29</td>\n",
       "      <td>8</td>\n",
       "      <td>2</td>\n",
       "      <td>ok lar joke wif u oni</td>\n",
       "    </tr>\n",
       "    <tr>\n",
       "      <th>2</th>\n",
       "      <td>1</td>\n",
       "      <td>Free entry in 2 a wkly comp to win FA Cup fina...</td>\n",
       "      <td>155</td>\n",
       "      <td>37</td>\n",
       "      <td>2</td>\n",
       "      <td>free entri 2 wkli comp win fa cup final tkt 21...</td>\n",
       "    </tr>\n",
       "    <tr>\n",
       "      <th>3</th>\n",
       "      <td>0</td>\n",
       "      <td>U dun say so early hor... U c already then say...</td>\n",
       "      <td>49</td>\n",
       "      <td>13</td>\n",
       "      <td>1</td>\n",
       "      <td>u dun say earli hor u c alreadi say</td>\n",
       "    </tr>\n",
       "    <tr>\n",
       "      <th>4</th>\n",
       "      <td>0</td>\n",
       "      <td>Nah I don't think he goes to usf, he lives aro...</td>\n",
       "      <td>61</td>\n",
       "      <td>15</td>\n",
       "      <td>1</td>\n",
       "      <td>nah think goe usf live around though</td>\n",
       "    </tr>\n",
       "  </tbody>\n",
       "</table>\n",
       "</div>"
      ],
      "text/plain": [
       "   target                                               text  num_alpha  \\\n",
       "0       0  Go until jurong point, crazy.. Available only ...        111   \n",
       "1       0                      Ok lar... Joking wif u oni...         29   \n",
       "2       1  Free entry in 2 a wkly comp to win FA Cup fina...        155   \n",
       "3       0  U dun say so early hor... U c already then say...         49   \n",
       "4       0  Nah I don't think he goes to usf, he lives aro...         61   \n",
       "\n",
       "   num_words  nums_sent                                   transformed_text  \n",
       "0         24          2  go jurong point crazi avail bugi n great world...  \n",
       "1          8          2                              ok lar joke wif u oni  \n",
       "2         37          2  free entri 2 wkli comp win fa cup final tkt 21...  \n",
       "3         13          1                u dun say earli hor u c alreadi say  \n",
       "4         15          1               nah think goe usf live around though  "
      ]
     },
     "execution_count": 39,
     "metadata": {},
     "output_type": "execute_result"
    }
   ],
   "source": [
    "df.head()"
   ]
  },
  {
   "cell_type": "code",
   "execution_count": 40,
   "id": "d684fffd-9f88-48bd-ac9c-81e135122e67",
   "metadata": {},
   "outputs": [
    {
     "ename": "NameError",
     "evalue": "name 'WordCould' is not defined",
     "output_type": "error",
     "traceback": [
      "\u001b[1;31m---------------------------------------------------------------------------\u001b[0m",
      "\u001b[1;31mNameError\u001b[0m                                 Traceback (most recent call last)",
      "Cell \u001b[1;32mIn[40], line 2\u001b[0m\n\u001b[0;32m      1\u001b[0m \u001b[38;5;28;01mfrom\u001b[39;00m \u001b[38;5;21;01mwordcloud\u001b[39;00m \u001b[38;5;28;01mimport\u001b[39;00m WordCloud\n\u001b[1;32m----> 2\u001b[0m wc \u001b[38;5;241m=\u001b[39m \u001b[43mWordCould\u001b[49m(width\u001b[38;5;241m=\u001b[39m\u001b[38;5;241m50\u001b[39m,height\u001b[38;5;241m=\u001b[39m\u001b[38;5;241m50\u001b[39m,min_font_size\u001b[38;5;241m=\u001b[39m\u001b[38;5;241m10\u001b[39m,background_color\u001b[38;5;241m=\u001b[39m\u001b[38;5;124m'\u001b[39m\u001b[38;5;124mwhite\u001b[39m\u001b[38;5;124m'\u001b[39m)\n\u001b[0;32m      3\u001b[0m spam_wc \u001b[38;5;241m=\u001b[39m wc\u001b[38;5;241m.\u001b[39mgenerate(df[df[\u001b[38;5;124m'\u001b[39m\u001b[38;5;124mtarget\u001b[39m\u001b[38;5;124m'\u001b[39m] \u001b[38;5;241m==\u001b[39m \u001b[38;5;241m1\u001b[39m][\u001b[38;5;124m'\u001b[39m\u001b[38;5;124mtransformed_text\u001b[39m\u001b[38;5;124m'\u001b[39m]\u001b[38;5;241m.\u001b[39mstr\u001b[38;5;241m.\u001b[39mcat(sep\u001b[38;5;241m=\u001b[39m\u001b[38;5;124m'\u001b[39m\u001b[38;5;124m'\u001b[39m))\n",
      "\u001b[1;31mNameError\u001b[0m: name 'WordCould' is not defined"
     ]
    }
   ],
   "source": [
    "\n",
    "from wordcloud import WordCloud\n",
    "wc = WordCould(width=50,height=50,min_font_size=10,background_color='white')\n",
    "spam_wc = wc.generate(df[df['target'] == 1]['transformed_text'].str.cat(sep=''))"
   ]
  },
  {
   "cell_type": "code",
   "execution_count": 41,
   "id": "6127fa04-2dbe-4d6e-b664-479c60fec95c",
   "metadata": {},
   "outputs": [
    {
     "name": "stdout",
     "output_type": "stream",
     "text": [
      "Defaulting to user installation because normal site-packages is not writeable\n",
      "Requirement already satisfied: wordcloud in c:\\users\\saru\\appdata\\roaming\\python\\python312\\site-packages (1.9.3)\n",
      "Requirement already satisfied: numpy>=1.6.1 in c:\\users\\saru\\appdata\\roaming\\python\\python312\\site-packages (from wordcloud) (1.26.3)\n",
      "Requirement already satisfied: pillow in c:\\users\\saru\\appdata\\roaming\\python\\python312\\site-packages (from wordcloud) (10.2.0)\n",
      "Requirement already satisfied: matplotlib in c:\\users\\saru\\appdata\\roaming\\python\\python312\\site-packages (from wordcloud) (3.8.4)\n",
      "Requirement already satisfied: contourpy>=1.0.1 in c:\\users\\saru\\appdata\\roaming\\python\\python312\\site-packages (from matplotlib->wordcloud) (1.2.1)\n",
      "Requirement already satisfied: cycler>=0.10 in c:\\users\\saru\\appdata\\roaming\\python\\python312\\site-packages (from matplotlib->wordcloud) (0.12.1)\n",
      "Requirement already satisfied: fonttools>=4.22.0 in c:\\users\\saru\\appdata\\roaming\\python\\python312\\site-packages (from matplotlib->wordcloud) (4.51.0)\n",
      "Requirement already satisfied: kiwisolver>=1.3.1 in c:\\users\\saru\\appdata\\roaming\\python\\python312\\site-packages (from matplotlib->wordcloud) (1.4.5)\n",
      "Requirement already satisfied: packaging>=20.0 in c:\\users\\saru\\appdata\\roaming\\python\\python312\\site-packages (from matplotlib->wordcloud) (23.2)\n",
      "Requirement already satisfied: pyparsing>=2.3.1 in c:\\users\\saru\\appdata\\roaming\\python\\python312\\site-packages (from matplotlib->wordcloud) (3.1.2)\n",
      "Requirement already satisfied: python-dateutil>=2.7 in c:\\users\\saru\\appdata\\roaming\\python\\python312\\site-packages (from matplotlib->wordcloud) (2.8.2)\n",
      "Requirement already satisfied: six>=1.5 in c:\\users\\saru\\appdata\\roaming\\python\\python312\\site-packages (from python-dateutil>=2.7->matplotlib->wordcloud) (1.16.0)\n"
     ]
    }
   ],
   "source": [
    "!pip install wordcloud"
   ]
  },
  {
   "cell_type": "code",
   "execution_count": 44,
   "id": "bdff3f99-ddb8-4ed5-ac6b-71ecd923e9af",
   "metadata": {},
   "outputs": [],
   "source": [
    "import matplotlib.pyplot as plt\n",
    "from wordcloud import WordCloud\n",
    "wc = WordCloud(width=500,height=500,min_font_size=10,background_color='white')\n",
    "spam_wc = wc.generate(df[df['target'] == 1]['transformed_text'].str.cat(sep=''))"
   ]
  },
  {
   "cell_type": "code",
   "execution_count": 45,
   "id": "5b2a3153-f704-40d3-9801-0f555a96ae44",
   "metadata": {},
   "outputs": [
    {
     "data": {
      "text/plain": [
       "<matplotlib.image.AxesImage at 0x1e55b40c950>"
      ]
     },
     "execution_count": 45,
     "metadata": {},
     "output_type": "execute_result"
    },
    {
     "data": {
      "image/png": "[encoded data removed]",
      "text/plain": [
       "<Figure size 640x480 with 1 Axes>"
      ]
     },
     "metadata": {},
     "output_type": "display_data"
    }
   ],
   "source": [
    "plt.imshow(spam_wc)"
   ]
  },
  {
   "cell_type": "code",
   "execution_count": 46,
   "id": "0a4f39f1-e394-47a2-bd4f-b72fbf52cc60",
   "metadata": {},
   "outputs": [],
   "source": [
    "ham_wc = wc.generate(df[df['target'] == 0]['transformed_text'].str.cat(sep=''))"
   ]
  },
  {
   "cell_type": "code",
   "execution_count": 47,
   "id": "e56fdddf-8c14-43b2-8f1c-2909d3df2b90",
   "metadata": {},
   "outputs": [
    {
     "data": {
      "text/plain": [
       "<matplotlib.image.AxesImage at 0x1e55b41d940>"
      ]
     },
     "execution_count": 47,
     "metadata": {},
     "output_type": "execute_result"
    },
    {
     "data": {
      "image/png": "[encoded data removed]",
      "text/plain": [
       "<Figure size 640x480 with 1 Axes>"
      ]
     },
     "metadata": {},
     "output_type": "display_data"
    }
   ],
   "source": [
    "plt.imshow(ham_wc)"
   ]
  },
  {
   "cell_type": "code",
   "execution_count": 48,
   "id": "d62d2a3a-88aa-4012-ae72-96a8921810fd",
   "metadata": {},
   "outputs": [
    {
     "data": {
      "text/html": [
       "<div>\n",
       "<style scoped>\n",
       "    .dataframe tbody tr th:only-of-type {\n",
       "        vertical-align: middle;\n",
       "    }\n",
       "\n",
       "    .dataframe tbody tr th {\n",
       "        vertical-align: top;\n",
       "    }\n",
       "\n",
       "    .dataframe thead th {\n",
       "        text-align: right;\n",
       "    }\n",
       "</style>\n",
       "<table border=\"1\" class=\"dataframe\">\n",
       "  <thead>\n",
       "    <tr style=\"text-align: right;\">\n",
       "      <th></th>\n",
       "      <th>target</th>\n",
       "      <th>text</th>\n",
       "      <th>num_alpha</th>\n",
       "      <th>num_words</th>\n",
       "      <th>nums_sent</th>\n",
       "      <th>transformed_text</th>\n",
       "    </tr>\n",
       "  </thead>\n",
       "  <tbody>\n",
       "    <tr>\n",
       "      <th>0</th>\n",
       "      <td>0</td>\n",
       "      <td>Go until jurong point, crazy.. Available only ...</td>\n",
       "      <td>111</td>\n",
       "      <td>24</td>\n",
       "      <td>2</td>\n",
       "      <td>go jurong point crazi avail bugi n great world...</td>\n",
       "    </tr>\n",
       "    <tr>\n",
       "      <th>1</th>\n",
       "      <td>0</td>\n",
       "      <td>Ok lar... Joking wif u oni...</td>\n",
       "      <td>29</td>\n",
       "      <td>8</td>\n",
       "      <td>2</td>\n",
       "      <td>ok lar joke wif u oni</td>\n",
       "    </tr>\n",
       "    <tr>\n",
       "      <th>2</th>\n",
       "      <td>1</td>\n",
       "      <td>Free entry in 2 a wkly comp to win FA Cup fina...</td>\n",
       "      <td>155</td>\n",
       "      <td>37</td>\n",
       "      <td>2</td>\n",
       "      <td>free entri 2 wkli comp win fa cup final tkt 21...</td>\n",
       "    </tr>\n",
       "    <tr>\n",
       "      <th>3</th>\n",
       "      <td>0</td>\n",
       "      <td>U dun say so early hor... U c already then say...</td>\n",
       "      <td>49</td>\n",
       "      <td>13</td>\n",
       "      <td>1</td>\n",
       "      <td>u dun say earli hor u c alreadi say</td>\n",
       "    </tr>\n",
       "    <tr>\n",
       "      <th>4</th>\n",
       "      <td>0</td>\n",
       "      <td>Nah I don't think he goes to usf, he lives aro...</td>\n",
       "      <td>61</td>\n",
       "      <td>15</td>\n",
       "      <td>1</td>\n",
       "      <td>nah think goe usf live around though</td>\n",
       "    </tr>\n",
       "  </tbody>\n",
       "</table>\n",
       "</div>"
      ],
      "text/plain": [
       "   target                                               text  num_alpha  \\\n",
       "0       0  Go until jurong point, crazy.. Available only ...        111   \n",
       "1       0                      Ok lar... Joking wif u oni...         29   \n",
       "2       1  Free entry in 2 a wkly comp to win FA Cup fina...        155   \n",
       "3       0  U dun say so early hor... U c already then say...         49   \n",
       "4       0  Nah I don't think he goes to usf, he lives aro...         61   \n",
       "\n",
       "   num_words  nums_sent                                   transformed_text  \n",
       "0         24          2  go jurong point crazi avail bugi n great world...  \n",
       "1          8          2                              ok lar joke wif u oni  \n",
       "2         37          2  free entri 2 wkli comp win fa cup final tkt 21...  \n",
       "3         13          1                u dun say earli hor u c alreadi say  \n",
       "4         15          1               nah think goe usf live around though  "
      ]
     },
     "execution_count": 48,
     "metadata": {},
     "output_type": "execute_result"
    }
   ],
   "source": [
    "df.head()"
   ]
  },
  {
   "cell_type": "code",
   "execution_count": 49,
   "id": "077e8c68-ca9a-4606-a0ba-8ac90785f51f",
   "metadata": {},
   "outputs": [],
   "source": [
    "spam_corpus = []\n",
    "for msg in df[df['target'] == 1]['transformed_text'].tolist():\n",
    "    for word in msg.split():\n",
    "        spam_corpus.append(word)"
   ]
  },
  {
   "cell_type": "code",
   "execution_count": 50,
   "id": "8aba150f-3f8f-4e13-a9bc-45d26f6cc605",
   "metadata": {},
   "outputs": [
    {
     "data": {
      "text/plain": [
       "9939"
      ]
     },
     "execution_count": 50,
     "metadata": {},
     "output_type": "execute_result"
    }
   ],
   "source": [
    "len(spam_corpus)"
   ]
  },
  {
   "cell_type": "code",
   "execution_count": 51,
   "id": "42999313-708a-4427-95cc-569a5ae9e676",
   "metadata": {},
   "outputs": [
    {
     "data": {
      "text/plain": [
       "[('call', 320),\n",
       " ('free', 191),\n",
       " ('2', 155),\n",
       " ('txt', 141),\n",
       " ('text', 122),\n",
       " ('u', 119),\n",
       " ('ur', 119),\n",
       " ('mobil', 114),\n",
       " ('stop', 104),\n",
       " ('repli', 103),\n",
       " ('claim', 98),\n",
       " ('4', 97),\n",
       " ('prize', 82),\n",
       " ('get', 74),\n",
       " ('new', 64),\n",
       " ('servic', 64),\n",
       " ('tone', 63),\n",
       " ('send', 60),\n",
       " ('urgent', 57),\n",
       " ('nokia', 57),\n",
       " ('contact', 56),\n",
       " ('award', 55),\n",
       " ('phone', 52),\n",
       " ('cash', 51),\n",
       " ('pleas', 51),\n",
       " ('week', 49),\n",
       " ('win', 48),\n",
       " ('c', 45),\n",
       " ('collect', 45),\n",
       " ('min', 45)]"
      ]
     },
     "execution_count": 51,
     "metadata": {},
     "output_type": "execute_result"
    }
   ],
   "source": [
    "from collections import Counter \n",
    "Counter(spam_corpus).most_common(30)"
   ]
  },
  {
   "cell_type": "markdown",
   "id": "4d5e9fc6-758c-4bd4-82fa-f9afb59d2fdf",
   "metadata": {},
   "source": [
    "# Model Building "
   ]
  },
  {
   "cell_type": "code",
   "execution_count": 52,
   "id": "08781ab4-8e99-435b-92c4-2858445a1cee",
   "metadata": {},
   "outputs": [],
   "source": [
    "from sklearn.feature_extraction.text import CountVectorizer\n",
    "cv =CountVectorizer()"
   ]
  },
  {
   "cell_type": "code",
   "execution_count": 53,
   "id": "df1fb0a5-113c-4fae-a2ad-15ac38f9e349",
   "metadata": {},
   "outputs": [],
   "source": [
    "X = cv.fit_transform(df['transformed_text']).toarray()"
   ]
  },
  {
   "cell_type": "code",
   "execution_count": 54,
   "id": "62d86d19-f8a8-48f5-ae29-0477a00cfa78",
   "metadata": {},
   "outputs": [
    {
     "data": {
      "text/plain": [
       "(5169, 6708)"
      ]
     },
     "execution_count": 54,
     "metadata": {},
     "output_type": "execute_result"
    }
   ],
   "source": [
    "X.shape"
   ]
  },
  {
   "cell_type": "code",
   "execution_count": 55,
   "id": "a3d5c235-11e3-418b-8810-24d67cd7aa27",
   "metadata": {},
   "outputs": [],
   "source": [
    "y = df['target'].values"
   ]
  },
  {
   "cell_type": "code",
   "execution_count": 56,
   "id": "11ca6522-b9a9-41bd-8280-a4ddf392b837",
   "metadata": {},
   "outputs": [
    {
     "data": {
      "text/plain": [
       "array([0, 0, 1, ..., 0, 0, 0])"
      ]
     },
     "execution_count": 56,
     "metadata": {},
     "output_type": "execute_result"
    }
   ],
   "source": [
    "y"
   ]
  },
  {
   "cell_type": "code",
   "execution_count": 57,
   "id": "31e3f167-b8fe-4ed9-babc-71136fc156a2",
   "metadata": {},
   "outputs": [],
   "source": [
    "from sklearn.model_selection import train_test_split"
   ]
  },
  {
   "cell_type": "code",
   "execution_count": 58,
   "id": "64e0f29b-8c2d-491f-b88e-7d01f5f6bece",
   "metadata": {},
   "outputs": [],
   "source": [
    "X_train, X_test, y_train,y_test = train_test_split(X,y,test_size=0.2,random_state=2)"
   ]
  },
  {
   "cell_type": "code",
   "execution_count": 59,
   "id": "39ed483b-a23c-44f3-ad9a-7b73b63a89df",
   "metadata": {},
   "outputs": [
    {
     "data": {
      "text/plain": [
       "array([[0, 0, 0, ..., 0, 0, 0],\n",
       "       [0, 0, 0, ..., 0, 0, 0],\n",
       "       [0, 0, 0, ..., 0, 0, 0],\n",
       "       ...,\n",
       "       [0, 0, 0, ..., 0, 0, 0],\n",
       "       [0, 0, 0, ..., 0, 0, 0],\n",
       "       [0, 0, 0, ..., 0, 0, 0]], dtype=int64)"
      ]
     },
     "execution_count": 59,
     "metadata": {},
     "output_type": "execute_result"
    }
   ],
   "source": [
    "X_test"
   ]
  },
  {
   "cell_type": "code",
   "execution_count": 60,
   "id": "0784e8ca-536e-4501-b93b-088ca6974c7b",
   "metadata": {},
   "outputs": [
    {
     "data": {
      "text/plain": [
       "(1034, 6708)"
      ]
     },
     "execution_count": 60,
     "metadata": {},
     "output_type": "execute_result"
    }
   ],
   "source": [
    "X_test.shape"
   ]
  },
  {
   "cell_type": "code",
   "execution_count": 61,
   "id": "f94ec17a-8c19-4edd-81d6-6b5f956da9f8",
   "metadata": {},
   "outputs": [],
   "source": [
    "from sklearn.naive_bayes import GaussianNB, MultinomialNB, BernoulliNB \n",
    "from sklearn.metrics import accuracy_score, confusion_matrix, precision_score"
   ]
  },
  {
   "cell_type": "code",
   "execution_count": 62,
   "id": "fd8c48b4-8d8f-4a3b-8dd0-9b708096b626",
   "metadata": {},
   "outputs": [],
   "source": [
    "gnb = GaussianNB()\n",
    "mnb = MultinomialNB()\n",
    "bnb = BernoulliNB()\n"
   ]
  },
  {
   "cell_type": "code",
   "execution_count": 63,
   "id": "e7ccbd95-7f20-4dd9-a89d-4e257ccec63c",
   "metadata": {},
   "outputs": [],
   "source": [
    "gnb.fit(X_train, y_train)\n",
    "y_pred1 = gnb.predict(X_test)"
   ]
  },
  {
   "cell_type": "code",
   "execution_count": 64,
   "id": "62e2bec8-8f14-4b7d-b082-25b1de68a1d3",
   "metadata": {},
   "outputs": [
    {
     "data": {
      "text/plain": [
       "array([0, 1, 1, ..., 0, 0, 0])"
      ]
     },
     "execution_count": 64,
     "metadata": {},
     "output_type": "execute_result"
    }
   ],
   "source": [
    "y_pred1"
   ]
  },
  {
   "cell_type": "code",
   "execution_count": 65,
   "id": "c58a5241-1ce2-4372-9f6b-23d8ab715968",
   "metadata": {},
   "outputs": [
    {
     "name": "stdout",
     "output_type": "stream",
     "text": [
      "0.8800773694390716\n",
      "[[792 104]\n",
      " [ 20 118]]\n",
      "0.5315315315315315\n"
     ]
    }
   ],
   "source": [
    "print(accuracy_score(y_test,y_pred1))\n",
    "print(confusion_matrix(y_test,y_pred1))\n",
    "print(precision_score(y_test,y_pred1))"
   ]
  },
  {
   "cell_type": "code",
   "execution_count": 66,
   "id": "c1b4cfe0-0ad0-414f-8208-85164d95a2f9",
   "metadata": {},
   "outputs": [
    {
     "name": "stdout",
     "output_type": "stream",
     "text": [
      "0.9700193423597679\n",
      "[[893   3]\n",
      " [ 28 110]]\n",
      "0.9734513274336283\n"
     ]
    }
   ],
   "source": [
    "bnb.fit(X_train, y_train)\n",
    "y_pred2 = bnb.predict(X_test)\n",
    "print(accuracy_score(y_test,y_pred2))\n",
    "print(confusion_matrix(y_test,y_pred2))\n",
    "print(precision_score(y_test,y_pred2))"
   ]
  },
  {
   "cell_type": "code",
   "execution_count": 67,
   "id": "a3c4623d-5fec-4294-b3cc-93bc1b4a7c5b",
   "metadata": {},
   "outputs": [
    {
     "name": "stdout",
     "output_type": "stream",
     "text": [
      "0.9642166344294004\n",
      "[[871  25]\n",
      " [ 12 126]]\n",
      "0.8344370860927153\n"
     ]
    }
   ],
   "source": [
    "mnb.fit(X_train, y_train)\n",
    "y_pred3 = mnb.predict(X_test)\n",
    "print(accuracy_score(y_test,y_pred3))\n",
    "print(confusion_matrix(y_test,y_pred3))\n",
    "print(precision_score(y_test,y_pred3))"
   ]
  },
  {
   "cell_type": "code",
   "execution_count": 68,
   "id": "ed7b66b9-8aaf-497e-82e7-67bd65e874e3",
   "metadata": {},
   "outputs": [],
   "source": [
    "\n",
    "from sklearn.feature_extraction.text import CountVectorizer,TfidfVectorizer\n",
    "cv = CountVectorizer()\n",
    "tfidf = TfidfVectorizer(max_features=3000)"
   ]
  },
  {
   "cell_type": "code",
   "execution_count": 69,
   "id": "7e0e84d5-e07f-4487-b794-3ae9f4d88b9a",
   "metadata": {},
   "outputs": [
    {
     "name": "stdout",
     "output_type": "stream",
     "text": [
      "0.8694390715667312\n",
      "[[788 108]\n",
      " [ 27 111]]\n",
      "0.5068493150684932\n",
      "0.9709864603481625\n",
      "[[896   0]\n",
      " [ 30 108]]\n",
      "1.0\n",
      "0.9835589941972921\n",
      "[[895   1]\n",
      " [ 16 122]]\n",
      "0.991869918699187\n"
     ]
    }
   ],
   "source": [
    "\n",
    "X = tfidf.fit_transform(df['transformed_text']).toarray()\n",
    "\n",
    "y = df['target'].values\n",
    "from sklearn.model_selection import train_test_split\n",
    "\n",
    "X_train,X_test,y_train,y_test = train_test_split(X,y,test_size=0.2,random_state=2)\n",
    "\n",
    "from sklearn.naive_bayes import GaussianNB,MultinomialNB,BernoulliNB\n",
    "from sklearn.metrics import accuracy_score,confusion_matrix,precision_score\n",
    "\n",
    "gnb = GaussianNB()\n",
    "mnb = MultinomialNB()\n",
    "bnb = BernoulliNB()\n",
    "\n",
    "gnb.fit(X_train,y_train)\n",
    "y_pred1 = gnb.predict(X_test)\n",
    "print(accuracy_score(y_test,y_pred1))\n",
    "print(confusion_matrix(y_test,y_pred1))\n",
    "print(precision_score(y_test,y_pred1))\n",
    "mnb.fit(X_train,y_train)\n",
    "y_pred2 = mnb.predict(X_test)\n",
    "print(accuracy_score(y_test,y_pred2))\n",
    "print(confusion_matrix(y_test,y_pred2))\n",
    "print(precision_score(y_test,y_pred2))\n",
    "bnb.fit(X_train,y_train)\n",
    "y_pred3 = bnb.predict(X_test)\n",
    "print(accuracy_score(y_test,y_pred3))\n",
    "print(confusion_matrix(y_test,y_pred3))\n",
    "print(precision_score(y_test,y_pred3))"
   ]
  },
  {
   "cell_type": "code",
   "execution_count": 70,
   "id": "53f182ee-f4bf-4dcb-97bb-7b54e6281a67",
   "metadata": {},
   "outputs": [],
   "source": [
    "\n",
    "from sklearn.linear_model import LogisticRegression\n",
    "from sklearn.svm import SVC\n",
    "from sklearn.naive_bayes import MultinomialNB\n",
    "from sklearn.tree import DecisionTreeClassifier\n",
    "from sklearn.neighbors import KNeighborsClassifier\n",
    "from sklearn.ensemble import RandomForestClassifier\n",
    "from sklearn.ensemble import AdaBoostClassifier\n",
    "from sklearn.ensemble import BaggingClassifier\n",
    "from sklearn.ensemble import ExtraTreesClassifier\n",
    "from sklearn.ensemble import GradientBoostingClassifier\n",
    "from xgboost import XGBClassifier"
   ]
  },
  {
   "cell_type": "code",
   "execution_count": 80,
   "id": "be8d884f-c3a5-43ce-8dcb-00e28a799dc8",
   "metadata": {},
   "outputs": [
    {
     "name": "stdout",
     "output_type": "stream",
     "text": [
      "Defaulting to user installation because normal site-packages is not writeable\n",
      "Collecting xgboost\n",
      "  Downloading xgboost-2.0.3-py3-none-win_amd64.whl.metadata (2.0 kB)\n",
      "Requirement already satisfied: numpy in c:\\users\\saru\\appdata\\roaming\\python\\python312\\site-packages (from xgboost) (1.26.3)\n",
      "Requirement already satisfied: scipy in c:\\users\\saru\\appdata\\roaming\\python\\python312\\site-packages (from xgboost) (1.12.0)\n",
      "Downloading xgboost-2.0.3-py3-none-win_amd64.whl (99.8 MB)\n",
      "   ---------------------------------------- 0.0/99.8 MB ? eta -:--:--\n",
      "   ---------------------------------------- 0.0/99.8 MB ? eta -:--:--\n",
      "   ---------------------------------------- 0.0/99.8 MB ? eta -:--:--\n",
      "   ---------------------------------------- 0.0/99.8 MB 262.6 kB/s eta 0:06:20\n",
      "   ---------------------------------------- 0.0/99.8 MB 281.8 kB/s eta 0:05:54\n",
      "   ---------------------------------------- 0.1/99.8 MB 459.5 kB/s eta 0:03:37\n",
      "   ---------------------------------------- 0.1/99.8 MB 420.8 kB/s eta 0:03:57\n",
      "   ---------------------------------------- 0.1/99.8 MB 607.9 kB/s eta 0:02:44\n",
      "   ---------------------------------------- 0.3/99.8 MB 827.5 kB/s eta 0:02:01\n",
      "   ---------------------------------------- 0.4/99.8 MB 1.0 MB/s eta 0:01:36\n",
      "   ---------------------------------------- 0.5/99.8 MB 1.2 MB/s eta 0:01:23\n",
      "   ---------------------------------------- 0.5/99.8 MB 1.2 MB/s eta 0:01:23\n",
      "   ---------------------------------------- 0.6/99.8 MB 1.3 MB/s eta 0:01:17\n",
      "   ---------------------------------------- 0.8/99.8 MB 1.4 MB/s eta 0:01:10\n",
      "   ---------------------------------------- 0.8/99.8 MB 1.5 MB/s eta 0:01:07\n",
      "   ---------------------------------------- 0.9/99.8 MB 1.5 MB/s eta 0:01:07\n",
      "   ---------------------------------------- 1.0/99.8 MB 1.6 MB/s eta 0:01:03\n",
      "   ---------------------------------------- 1.1/99.8 MB 1.6 MB/s eta 0:01:03\n",
      "   ---------------------------------------- 1.2/99.8 MB 1.6 MB/s eta 0:01:02\n",
      "    --------------------------------------- 1.3/99.8 MB 1.7 MB/s eta 0:00:58\n",
      "    --------------------------------------- 1.5/99.8 MB 1.8 MB/s eta 0:00:56\n",
      "    --------------------------------------- 1.7/99.8 MB 1.9 MB/s eta 0:00:52\n",
      "    --------------------------------------- 1.8/99.8 MB 1.9 MB/s eta 0:00:51\n",
      "    --------------------------------------- 2.0/99.8 MB 2.0 MB/s eta 0:00:49\n",
      "    --------------------------------------- 2.1/99.8 MB 2.1 MB/s eta 0:00:48\n",
      "    --------------------------------------- 2.2/99.8 MB 2.1 MB/s eta 0:00:47\n",
      "   - -------------------------------------- 2.6/99.8 MB 2.3 MB/s eta 0:00:43\n",
      "   - -------------------------------------- 2.6/99.8 MB 2.3 MB/s eta 0:00:43\n",
      "   - -------------------------------------- 2.9/99.8 MB 2.4 MB/s eta 0:00:41\n",
      "   - -------------------------------------- 3.1/99.8 MB 2.5 MB/s eta 0:00:40\n",
      "   - -------------------------------------- 3.2/99.8 MB 2.5 MB/s eta 0:00:39\n",
      "   - -------------------------------------- 3.3/99.8 MB 2.5 MB/s eta 0:00:40\n",
      "   - -------------------------------------- 3.5/99.8 MB 2.5 MB/s eta 0:00:39\n",
      "   - -------------------------------------- 3.7/99.8 MB 2.6 MB/s eta 0:00:38\n",
      "   - -------------------------------------- 3.8/99.8 MB 2.6 MB/s eta 0:00:38\n",
      "   - -------------------------------------- 3.9/99.8 MB 2.6 MB/s eta 0:00:38\n",
      "   - -------------------------------------- 4.3/99.8 MB 2.7 MB/s eta 0:00:36\n",
      "   - -------------------------------------- 4.5/99.8 MB 2.7 MB/s eta 0:00:35\n",
      "   - -------------------------------------- 4.7/99.8 MB 2.8 MB/s eta 0:00:35\n",
      "   - -------------------------------------- 4.9/99.8 MB 2.8 MB/s eta 0:00:34\n",
      "   -- ------------------------------------- 5.1/99.8 MB 2.9 MB/s eta 0:00:34\n",
      "   -- ------------------------------------- 5.4/99.8 MB 2.9 MB/s eta 0:00:33\n",
      "   -- ------------------------------------- 5.6/99.8 MB 3.0 MB/s eta 0:00:32\n",
      "   -- ------------------------------------- 5.9/99.8 MB 3.1 MB/s eta 0:00:31\n",
      "   -- ------------------------------------- 5.9/99.8 MB 3.1 MB/s eta 0:00:31\n",
      "   -- ------------------------------------- 6.2/99.8 MB 3.1 MB/s eta 0:00:31\n",
      "   -- ------------------------------------- 6.4/99.8 MB 3.2 MB/s eta 0:00:30\n",
      "   -- ------------------------------------- 6.7/99.8 MB 3.2 MB/s eta 0:00:30\n",
      "   -- ------------------------------------- 6.9/99.8 MB 3.3 MB/s eta 0:00:29\n",
      "   -- ------------------------------------- 6.9/99.8 MB 3.2 MB/s eta 0:00:30\n",
      "   -- ------------------------------------- 7.1/99.8 MB 3.2 MB/s eta 0:00:29\n",
      "   -- ------------------------------------- 7.4/99.8 MB 3.3 MB/s eta 0:00:28\n",
      "   -- ------------------------------------- 7.4/99.8 MB 3.3 MB/s eta 0:00:28\n",
      "   --- ------------------------------------ 7.5/99.8 MB 3.2 MB/s eta 0:00:29\n",
      "   --- ------------------------------------ 7.8/99.8 MB 3.2 MB/s eta 0:00:29\n",
      "   --- ------------------------------------ 8.0/99.8 MB 3.3 MB/s eta 0:00:28\n",
      "   --- ------------------------------------ 8.2/99.8 MB 3.3 MB/s eta 0:00:28\n",
      "   --- ------------------------------------ 8.5/99.8 MB 3.4 MB/s eta 0:00:27\n",
      "   --- ------------------------------------ 8.5/99.8 MB 3.3 MB/s eta 0:00:28\n",
      "   --- ------------------------------------ 9.0/99.8 MB 3.4 MB/s eta 0:00:27\n",
      "   --- ------------------------------------ 9.1/99.8 MB 3.4 MB/s eta 0:00:27\n",
      "   --- ------------------------------------ 9.2/99.8 MB 3.4 MB/s eta 0:00:27\n",
      "   --- ------------------------------------ 9.4/99.8 MB 3.4 MB/s eta 0:00:27\n",
      "   --- ------------------------------------ 9.6/99.8 MB 3.4 MB/s eta 0:00:27\n",
      "   --- ------------------------------------ 9.9/99.8 MB 3.5 MB/s eta 0:00:26\n",
      "   ---- ----------------------------------- 10.2/99.8 MB 3.5 MB/s eta 0:00:26\n",
      "   ---- ----------------------------------- 10.3/99.8 MB 3.7 MB/s eta 0:00:25\n",
      "   ---- ----------------------------------- 10.6/99.8 MB 3.9 MB/s eta 0:00:23\n",
      "   ---- ----------------------------------- 11.0/99.8 MB 4.1 MB/s eta 0:00:22\n",
      "   ---- ----------------------------------- 11.4/99.8 MB 4.4 MB/s eta 0:00:21\n",
      "   ---- ----------------------------------- 11.7/99.8 MB 4.5 MB/s eta 0:00:20\n",
      "   ---- ----------------------------------- 12.0/99.8 MB 4.6 MB/s eta 0:00:20\n",
      "   ---- ----------------------------------- 12.2/99.8 MB 4.6 MB/s eta 0:00:19\n",
      "   ----- ---------------------------------- 12.6/99.8 MB 4.8 MB/s eta 0:00:19\n",
      "   ----- ---------------------------------- 13.1/99.8 MB 4.8 MB/s eta 0:00:18\n",
      "   ----- ---------------------------------- 13.5/99.8 MB 5.1 MB/s eta 0:00:18\n",
      "   ----- ---------------------------------- 13.8/99.8 MB 5.2 MB/s eta 0:00:17\n",
      "   ----- ---------------------------------- 14.2/99.8 MB 5.4 MB/s eta 0:00:16\n",
      "   ----- ---------------------------------- 14.4/99.8 MB 5.5 MB/s eta 0:00:16\n",
      "   ----- ---------------------------------- 14.8/99.8 MB 5.5 MB/s eta 0:00:16\n",
      "   ------ --------------------------------- 15.2/99.8 MB 5.7 MB/s eta 0:00:15\n",
      "   ------ --------------------------------- 15.2/99.8 MB 5.7 MB/s eta 0:00:15\n",
      "   ------ --------------------------------- 15.4/99.8 MB 5.5 MB/s eta 0:00:16\n",
      "   ------ --------------------------------- 15.7/99.8 MB 5.6 MB/s eta 0:00:16\n",
      "   ------ --------------------------------- 16.2/99.8 MB 5.8 MB/s eta 0:00:15\n",
      "   ------ --------------------------------- 16.4/99.8 MB 5.8 MB/s eta 0:00:15\n",
      "   ------ --------------------------------- 16.5/99.8 MB 5.7 MB/s eta 0:00:15\n",
      "   ------ --------------------------------- 16.9/99.8 MB 5.8 MB/s eta 0:00:15\n",
      "   ------ --------------------------------- 17.0/99.8 MB 5.7 MB/s eta 0:00:15\n",
      "   ------- -------------------------------- 17.7/99.8 MB 6.4 MB/s eta 0:00:13\n",
      "   ------- -------------------------------- 17.7/99.8 MB 6.2 MB/s eta 0:00:14\n",
      "   ------- -------------------------------- 18.0/99.8 MB 6.1 MB/s eta 0:00:14\n",
      "   ------- -------------------------------- 18.4/99.8 MB 6.3 MB/s eta 0:00:13\n",
      "   ------- -------------------------------- 18.8/99.8 MB 6.5 MB/s eta 0:00:13\n",
      "   ------- -------------------------------- 19.1/99.8 MB 6.5 MB/s eta 0:00:13\n",
      "   ------- -------------------------------- 19.4/99.8 MB 6.9 MB/s eta 0:00:12\n",
      "   ------- -------------------------------- 19.9/99.8 MB 7.0 MB/s eta 0:00:12\n",
      "   -------- ------------------------------- 20.3/99.8 MB 7.0 MB/s eta 0:00:12\n",
      "   -------- ------------------------------- 20.5/99.8 MB 7.2 MB/s eta 0:00:12\n",
      "   -------- ------------------------------- 20.6/99.8 MB 7.1 MB/s eta 0:00:12\n",
      "   -------- ------------------------------- 20.9/99.8 MB 7.0 MB/s eta 0:00:12\n",
      "   -------- ------------------------------- 21.3/99.8 MB 7.0 MB/s eta 0:00:12\n",
      "   -------- ------------------------------- 21.7/99.8 MB 7.1 MB/s eta 0:00:11\n",
      "   -------- ------------------------------- 22.1/99.8 MB 7.1 MB/s eta 0:00:11\n",
      "   -------- ------------------------------- 22.2/99.8 MB 7.0 MB/s eta 0:00:12\n",
      "   --------- ------------------------------ 22.5/99.8 MB 7.0 MB/s eta 0:00:11\n",
      "   --------- ------------------------------ 22.9/99.8 MB 7.0 MB/s eta 0:00:12\n",
      "   --------- ------------------------------ 23.4/99.8 MB 7.0 MB/s eta 0:00:11\n",
      "   --------- ------------------------------ 23.8/99.8 MB 7.0 MB/s eta 0:00:11\n",
      "   --------- ------------------------------ 24.2/99.8 MB 6.9 MB/s eta 0:00:11\n",
      "   --------- ------------------------------ 24.6/99.8 MB 7.0 MB/s eta 0:00:11\n",
      "   ---------- ----------------------------- 25.0/99.8 MB 7.0 MB/s eta 0:00:11\n",
      "   ---------- ----------------------------- 25.3/99.8 MB 7.0 MB/s eta 0:00:11\n",
      "   ---------- ----------------------------- 25.7/99.8 MB 7.3 MB/s eta 0:00:11\n",
      "   ---------- ----------------------------- 26.1/99.8 MB 7.3 MB/s eta 0:00:11\n",
      "   ---------- ----------------------------- 26.4/99.8 MB 7.2 MB/s eta 0:00:11\n",
      "   ---------- ----------------------------- 26.8/99.8 MB 7.5 MB/s eta 0:00:10\n",
      "   ---------- ----------------------------- 26.9/99.8 MB 7.3 MB/s eta 0:00:11\n",
      "   ----------- ---------------------------- 27.5/99.8 MB 7.5 MB/s eta 0:00:10\n",
      "   ----------- ---------------------------- 27.9/99.8 MB 7.3 MB/s eta 0:00:10\n",
      "   ----------- ---------------------------- 28.2/99.8 MB 7.8 MB/s eta 0:00:10\n",
      "   ----------- ---------------------------- 28.6/99.8 MB 7.7 MB/s eta 0:00:10\n",
      "   ----------- ---------------------------- 28.8/99.8 MB 7.7 MB/s eta 0:00:10\n",
      "   ----------- ---------------------------- 29.2/99.8 MB 7.5 MB/s eta 0:00:10\n",
      "   ----------- ---------------------------- 29.6/99.8 MB 7.5 MB/s eta 0:00:10\n",
      "   ------------ --------------------------- 30.0/99.8 MB 7.6 MB/s eta 0:00:10\n",
      "   ------------ --------------------------- 30.4/99.8 MB 7.6 MB/s eta 0:00:10\n",
      "   ------------ --------------------------- 30.7/99.8 MB 7.5 MB/s eta 0:00:10\n",
      "   ------------ --------------------------- 31.1/99.8 MB 8.0 MB/s eta 0:00:09\n",
      "   ------------ --------------------------- 31.5/99.8 MB 7.9 MB/s eta 0:00:09\n",
      "   ------------ --------------------------- 32.0/99.8 MB 7.8 MB/s eta 0:00:09\n",
      "   ------------ --------------------------- 32.4/99.8 MB 8.0 MB/s eta 0:00:09\n",
      "   ------------- -------------------------- 32.5/99.8 MB 8.1 MB/s eta 0:00:09\n",
      "   ------------- -------------------------- 32.6/99.8 MB 7.7 MB/s eta 0:00:09\n",
      "   ------------- -------------------------- 32.9/99.8 MB 7.8 MB/s eta 0:00:09\n",
      "   ------------- -------------------------- 33.3/99.8 MB 7.7 MB/s eta 0:00:09\n",
      "   ------------- -------------------------- 33.7/99.8 MB 7.7 MB/s eta 0:00:09\n",
      "   ------------- -------------------------- 34.2/99.8 MB 7.7 MB/s eta 0:00:09\n",
      "   ------------- -------------------------- 34.7/99.8 MB 7.8 MB/s eta 0:00:09\n",
      "   -------------- ------------------------- 35.1/99.8 MB 7.8 MB/s eta 0:00:09\n",
      "   -------------- ------------------------- 35.4/99.8 MB 7.8 MB/s eta 0:00:09\n",
      "   -------------- ------------------------- 35.9/99.8 MB 7.9 MB/s eta 0:00:09\n",
      "   -------------- ------------------------- 36.1/99.8 MB 7.9 MB/s eta 0:00:09\n",
      "   -------------- ------------------------- 36.3/99.8 MB 7.6 MB/s eta 0:00:09\n",
      "   -------------- ------------------------- 36.7/99.8 MB 7.8 MB/s eta 0:00:09\n",
      "   -------------- ------------------------- 37.0/99.8 MB 7.9 MB/s eta 0:00:08\n",
      "   -------------- ------------------------- 37.4/99.8 MB 8.0 MB/s eta 0:00:08\n",
      "   --------------- ------------------------ 37.8/99.8 MB 7.9 MB/s eta 0:00:08\n",
      "   --------------- ------------------------ 38.2/99.8 MB 8.0 MB/s eta 0:00:08\n",
      "   --------------- ------------------------ 38.5/99.8 MB 7.9 MB/s eta 0:00:08\n",
      "   --------------- ------------------------ 38.9/99.8 MB 7.9 MB/s eta 0:00:08\n",
      "   --------------- ------------------------ 39.2/99.8 MB 8.1 MB/s eta 0:00:08\n",
      "   --------------- ------------------------ 39.6/99.8 MB 8.1 MB/s eta 0:00:08\n",
      "   ---------------- ----------------------- 40.0/99.8 MB 8.1 MB/s eta 0:00:08\n",
      "   ---------------- ----------------------- 40.4/99.8 MB 8.1 MB/s eta 0:00:08\n",
      "   ---------------- ----------------------- 40.6/99.8 MB 8.0 MB/s eta 0:00:08\n",
      "   ---------------- ----------------------- 41.0/99.8 MB 8.0 MB/s eta 0:00:08\n",
      "   ---------------- ----------------------- 41.4/99.8 MB 8.0 MB/s eta 0:00:08\n",
      "   ---------------- ----------------------- 41.6/99.8 MB 8.0 MB/s eta 0:00:08\n",
      "   ---------------- ----------------------- 41.6/99.8 MB 8.0 MB/s eta 0:00:08\n",
      "   ----------------- ---------------------- 42.6/99.8 MB 7.9 MB/s eta 0:00:08\n",
      "   ----------------- ---------------------- 42.9/99.8 MB 8.3 MB/s eta 0:00:07\n",
      "   ----------------- ---------------------- 43.3/99.8 MB 8.3 MB/s eta 0:00:07\n",
      "   ----------------- ---------------------- 43.8/99.8 MB 8.4 MB/s eta 0:00:07\n",
      "   ----------------- ---------------------- 44.3/99.8 MB 8.4 MB/s eta 0:00:07\n",
      "   ----------------- ---------------------- 44.7/99.8 MB 8.4 MB/s eta 0:00:07\n",
      "   ------------------ --------------------- 45.0/99.8 MB 8.3 MB/s eta 0:00:07\n",
      "   ------------------ --------------------- 45.3/99.8 MB 8.2 MB/s eta 0:00:07\n",
      "   ------------------ --------------------- 45.6/99.8 MB 8.2 MB/s eta 0:00:07\n",
      "   ------------------ --------------------- 45.8/99.8 MB 8.1 MB/s eta 0:00:07\n",
      "   ------------------ --------------------- 46.2/99.8 MB 8.1 MB/s eta 0:00:07\n",
      "   ------------------ --------------------- 46.5/99.8 MB 8.2 MB/s eta 0:00:07\n",
      "   ------------------ --------------------- 46.8/99.8 MB 8.2 MB/s eta 0:00:07\n",
      "   ------------------ --------------------- 47.2/99.8 MB 8.2 MB/s eta 0:00:07\n",
      "   ------------------ --------------------- 47.3/99.8 MB 8.0 MB/s eta 0:00:07\n",
      "   ------------------- -------------------- 47.7/99.8 MB 8.0 MB/s eta 0:00:07\n",
      "   ------------------- -------------------- 48.0/99.8 MB 7.9 MB/s eta 0:00:07\n",
      "   ------------------- -------------------- 48.3/99.8 MB 7.8 MB/s eta 0:00:07\n",
      "   ------------------- -------------------- 48.5/99.8 MB 7.6 MB/s eta 0:00:07\n",
      "   ------------------- -------------------- 48.9/99.8 MB 7.6 MB/s eta 0:00:07\n",
      "   ------------------- -------------------- 49.3/99.8 MB 7.6 MB/s eta 0:00:07\n",
      "   ------------------- -------------------- 49.5/99.8 MB 7.6 MB/s eta 0:00:07\n",
      "   ------------------- -------------------- 49.8/99.8 MB 7.4 MB/s eta 0:00:07\n",
      "   -------------------- ------------------- 50.2/99.8 MB 7.5 MB/s eta 0:00:07\n",
      "   -------------------- ------------------- 50.5/99.8 MB 7.4 MB/s eta 0:00:07\n",
      "   -------------------- ------------------- 50.8/99.8 MB 7.4 MB/s eta 0:00:07\n",
      "   -------------------- ------------------- 51.0/99.8 MB 7.3 MB/s eta 0:00:07\n",
      "   -------------------- ------------------- 51.5/99.8 MB 7.1 MB/s eta 0:00:07\n",
      "   -------------------- ------------------- 51.8/99.8 MB 7.1 MB/s eta 0:00:07\n",
      "   -------------------- ------------------- 52.2/99.8 MB 7.4 MB/s eta 0:00:07\n",
      "   --------------------- ------------------ 52.5/99.8 MB 7.2 MB/s eta 0:00:07\n",
      "   --------------------- ------------------ 52.8/99.8 MB 7.0 MB/s eta 0:00:07\n",
      "   --------------------- ------------------ 53.2/99.8 MB 7.0 MB/s eta 0:00:07\n",
      "   --------------------- ------------------ 53.5/99.8 MB 7.0 MB/s eta 0:00:07\n",
      "   --------------------- ------------------ 53.8/99.8 MB 7.0 MB/s eta 0:00:07\n",
      "   --------------------- ------------------ 54.2/99.8 MB 6.9 MB/s eta 0:00:07\n",
      "   --------------------- ------------------ 54.5/99.8 MB 7.0 MB/s eta 0:00:07\n",
      "   ---------------------- ----------------- 55.1/99.8 MB 7.0 MB/s eta 0:00:07\n",
      "   ---------------------- ----------------- 55.5/99.8 MB 7.1 MB/s eta 0:00:07\n",
      "   ---------------------- ----------------- 56.0/99.8 MB 7.2 MB/s eta 0:00:07\n",
      "   ---------------------- ----------------- 56.4/99.8 MB 7.2 MB/s eta 0:00:07\n",
      "   ---------------------- ----------------- 56.6/99.8 MB 7.2 MB/s eta 0:00:06\n",
      "   ---------------------- ----------------- 56.8/99.8 MB 7.0 MB/s eta 0:00:07\n",
      "   ---------------------- ----------------- 57.2/99.8 MB 7.0 MB/s eta 0:00:07\n",
      "   ----------------------- ---------------- 57.6/99.8 MB 7.2 MB/s eta 0:00:06\n",
      "   ----------------------- ---------------- 58.0/99.8 MB 7.2 MB/s eta 0:00:06\n",
      "   ----------------------- ---------------- 58.4/99.8 MB 7.4 MB/s eta 0:00:06\n",
      "   ----------------------- ---------------- 58.8/99.8 MB 7.5 MB/s eta 0:00:06\n",
      "   ----------------------- ---------------- 59.2/99.8 MB 7.4 MB/s eta 0:00:06\n",
      "   ----------------------- ---------------- 59.6/99.8 MB 7.6 MB/s eta 0:00:06\n",
      "   ------------------------ --------------- 60.0/99.8 MB 7.7 MB/s eta 0:00:06\n",
      "   ------------------------ --------------- 60.3/99.8 MB 7.6 MB/s eta 0:00:06\n",
      "   ------------------------ --------------- 60.7/99.8 MB 7.6 MB/s eta 0:00:06\n",
      "   ------------------------ --------------- 60.9/99.8 MB 8.0 MB/s eta 0:00:05\n",
      "   ------------------------ --------------- 61.3/99.8 MB 7.9 MB/s eta 0:00:05\n",
      "   ------------------------ --------------- 61.7/99.8 MB 7.9 MB/s eta 0:00:05\n",
      "   ------------------------ --------------- 62.2/99.8 MB 8.0 MB/s eta 0:00:05\n",
      "   ------------------------- -------------- 62.4/99.8 MB 8.0 MB/s eta 0:00:05\n",
      "   ------------------------- -------------- 62.9/99.8 MB 8.1 MB/s eta 0:00:05\n",
      "   ------------------------- -------------- 63.3/99.8 MB 8.0 MB/s eta 0:00:05\n",
      "   ------------------------- -------------- 63.4/99.8 MB 8.0 MB/s eta 0:00:05\n",
      "   ------------------------- -------------- 63.9/99.8 MB 8.0 MB/s eta 0:00:05\n",
      "   ------------------------- -------------- 64.4/99.8 MB 8.2 MB/s eta 0:00:05\n",
      "   ------------------------- -------------- 64.8/99.8 MB 8.2 MB/s eta 0:00:05\n",
      "   -------------------------- ------------- 65.1/99.8 MB 8.2 MB/s eta 0:00:05\n",
      "   -------------------------- ------------- 65.5/99.8 MB 8.2 MB/s eta 0:00:05\n",
      "   -------------------------- ------------- 65.9/99.8 MB 8.2 MB/s eta 0:00:05\n",
      "   -------------------------- ------------- 66.3/99.8 MB 8.3 MB/s eta 0:00:05\n",
      "   -------------------------- ------------- 66.6/99.8 MB 8.2 MB/s eta 0:00:05\n",
      "   -------------------------- ------------- 66.7/99.8 MB 7.9 MB/s eta 0:00:05\n",
      "   -------------------------- ------------- 66.9/99.8 MB 8.1 MB/s eta 0:00:05\n",
      "   --------------------------- ------------ 67.4/99.8 MB 8.1 MB/s eta 0:00:05\n",
      "   --------------------------- ------------ 67.8/99.8 MB 8.1 MB/s eta 0:00:04\n",
      "   --------------------------- ------------ 68.2/99.8 MB 8.1 MB/s eta 0:00:04\n",
      "   --------------------------- ------------ 68.7/99.8 MB 8.1 MB/s eta 0:00:04\n",
      "   --------------------------- ------------ 69.0/99.8 MB 7.9 MB/s eta 0:00:04\n",
      "   --------------------------- ------------ 69.4/99.8 MB 8.1 MB/s eta 0:00:04\n",
      "   ---------------------------- ----------- 69.9/99.8 MB 8.1 MB/s eta 0:00:04\n",
      "   ---------------------------- ----------- 70.3/99.8 MB 8.1 MB/s eta 0:00:04\n",
      "   ---------------------------- ----------- 70.7/99.8 MB 8.1 MB/s eta 0:00:04\n",
      "   ---------------------------- ----------- 71.1/99.8 MB 8.1 MB/s eta 0:00:04\n",
      "   ---------------------------- ----------- 71.4/99.8 MB 8.2 MB/s eta 0:00:04\n",
      "   ---------------------------- ----------- 71.8/99.8 MB 8.3 MB/s eta 0:00:04\n",
      "   ---------------------------- ----------- 72.0/99.8 MB 8.3 MB/s eta 0:00:04\n",
      "   ---------------------------- ----------- 72.2/99.8 MB 7.9 MB/s eta 0:00:04\n",
      "   ---------------------------- ----------- 72.3/99.8 MB 7.9 MB/s eta 0:00:04\n",
      "   ----------------------------- ---------- 73.0/99.8 MB 7.9 MB/s eta 0:00:04\n",
      "   ----------------------------- ---------- 73.4/99.8 MB 7.9 MB/s eta 0:00:04\n",
      "   ----------------------------- ---------- 73.7/99.8 MB 8.2 MB/s eta 0:00:04\n",
      "   ----------------------------- ---------- 74.0/99.8 MB 8.0 MB/s eta 0:00:04\n",
      "   ----------------------------- ---------- 74.4/99.8 MB 7.8 MB/s eta 0:00:04\n",
      "   ----------------------------- ---------- 74.7/99.8 MB 7.9 MB/s eta 0:00:04\n",
      "   ------------------------------ --------- 75.2/99.8 MB 7.9 MB/s eta 0:00:04\n",
      "   ------------------------------ --------- 75.6/99.8 MB 7.9 MB/s eta 0:00:04\n",
      "   ------------------------------ --------- 76.1/99.8 MB 7.9 MB/s eta 0:00:04\n",
      "   ------------------------------ --------- 76.5/99.8 MB 7.8 MB/s eta 0:00:03\n",
      "   ------------------------------ --------- 76.8/99.8 MB 7.9 MB/s eta 0:00:03\n",
      "   ------------------------------ --------- 77.2/99.8 MB 8.3 MB/s eta 0:00:03\n",
      "   ------------------------------- -------- 77.7/99.8 MB 8.3 MB/s eta 0:00:03\n",
      "   ------------------------------- -------- 78.1/99.8 MB 8.3 MB/s eta 0:00:03\n",
      "   ------------------------------- -------- 78.4/99.8 MB 8.3 MB/s eta 0:00:03\n",
      "   ------------------------------- -------- 78.8/99.8 MB 8.3 MB/s eta 0:00:03\n",
      "   ------------------------------- -------- 79.2/99.8 MB 8.3 MB/s eta 0:00:03\n",
      "   ------------------------------- -------- 79.6/99.8 MB 8.4 MB/s eta 0:00:03\n",
      "   -------------------------------- ------- 80.0/99.8 MB 8.3 MB/s eta 0:00:03\n",
      "   -------------------------------- ------- 80.3/99.8 MB 8.3 MB/s eta 0:00:03\n",
      "   -------------------------------- ------- 80.8/99.8 MB 8.3 MB/s eta 0:00:03\n",
      "   -------------------------------- ------- 81.1/99.8 MB 8.3 MB/s eta 0:00:03\n",
      "   -------------------------------- ------- 81.3/99.8 MB 8.1 MB/s eta 0:00:03\n",
      "   -------------------------------- ------- 81.6/99.8 MB 8.1 MB/s eta 0:00:03\n",
      "   -------------------------------- ------- 81.7/99.8 MB 7.8 MB/s eta 0:00:03\n",
      "   -------------------------------- ------- 82.1/99.8 MB 7.8 MB/s eta 0:00:03\n",
      "   --------------------------------- ------ 82.5/99.8 MB 8.2 MB/s eta 0:00:03\n",
      "   --------------------------------- ------ 82.7/99.8 MB 8.4 MB/s eta 0:00:03\n",
      "   --------------------------------- ------ 83.1/99.8 MB 8.1 MB/s eta 0:00:03\n",
      "   --------------------------------- ------ 83.5/99.8 MB 8.1 MB/s eta 0:00:03\n",
      "   --------------------------------- ------ 83.9/99.8 MB 8.1 MB/s eta 0:00:02\n",
      "   --------------------------------- ------ 84.3/99.8 MB 8.1 MB/s eta 0:00:02\n",
      "   --------------------------------- ------ 84.6/99.8 MB 8.0 MB/s eta 0:00:02\n",
      "   ---------------------------------- ----- 84.9/99.8 MB 8.1 MB/s eta 0:00:02\n",
      "   ---------------------------------- ----- 85.3/99.8 MB 8.1 MB/s eta 0:00:02\n",
      "   ---------------------------------- ----- 85.7/99.8 MB 8.1 MB/s eta 0:00:02\n",
      "   ---------------------------------- ----- 86.0/99.8 MB 8.1 MB/s eta 0:00:02\n",
      "   ---------------------------------- ----- 86.3/99.8 MB 8.2 MB/s eta 0:00:02\n",
      "   ---------------------------------- ----- 86.7/99.8 MB 7.9 MB/s eta 0:00:02\n",
      "   ---------------------------------- ----- 86.7/99.8 MB 7.8 MB/s eta 0:00:02\n",
      "   ---------------------------------- ----- 87.0/99.8 MB 7.5 MB/s eta 0:00:02\n",
      "   ---------------------------------- ----- 87.3/99.8 MB 7.4 MB/s eta 0:00:02\n",
      "   ----------------------------------- ---- 87.7/99.8 MB 7.5 MB/s eta 0:00:02\n",
      "   ----------------------------------- ---- 88.1/99.8 MB 7.4 MB/s eta 0:00:02\n",
      "   ----------------------------------- ---- 88.4/99.8 MB 7.4 MB/s eta 0:00:02\n",
      "   ----------------------------------- ---- 88.7/99.8 MB 7.4 MB/s eta 0:00:02\n",
      "   ----------------------------------- ---- 89.1/99.8 MB 7.4 MB/s eta 0:00:02\n",
      "   ----------------------------------- ---- 89.6/99.8 MB 7.4 MB/s eta 0:00:02\n",
      "   ------------------------------------ --- 90.0/99.8 MB 7.4 MB/s eta 0:00:02\n",
      "   ------------------------------------ --- 90.7/99.8 MB 7.3 MB/s eta 0:00:02\n",
      "   ------------------------------------ --- 91.0/99.8 MB 7.3 MB/s eta 0:00:02\n",
      "   ------------------------------------ --- 91.0/99.8 MB 7.3 MB/s eta 0:00:02\n",
      "   ------------------------------------ --- 91.1/99.8 MB 6.8 MB/s eta 0:00:02\n",
      "   ------------------------------------ --- 91.5/99.8 MB 7.0 MB/s eta 0:00:02\n",
      "   ------------------------------------ --- 92.0/99.8 MB 7.2 MB/s eta 0:00:02\n",
      "   ------------------------------------- -- 92.4/99.8 MB 7.3 MB/s eta 0:00:02\n",
      "   ------------------------------------- -- 92.7/99.8 MB 7.3 MB/s eta 0:00:01\n",
      "   ------------------------------------- -- 93.0/99.8 MB 7.3 MB/s eta 0:00:01\n",
      "   ------------------------------------- -- 93.2/99.8 MB 7.4 MB/s eta 0:00:01\n",
      "   ------------------------------------- -- 93.3/99.8 MB 7.0 MB/s eta 0:00:01\n",
      "   ------------------------------------- -- 93.6/99.8 MB 7.0 MB/s eta 0:00:01\n",
      "   ------------------------------------- -- 94.0/99.8 MB 7.0 MB/s eta 0:00:01\n",
      "   ------------------------------------- -- 94.5/99.8 MB 7.0 MB/s eta 0:00:01\n",
      "   -------------------------------------- - 94.9/99.8 MB 7.0 MB/s eta 0:00:01\n",
      "   -------------------------------------- - 95.3/99.8 MB 7.0 MB/s eta 0:00:01\n",
      "   -------------------------------------- - 95.7/99.8 MB 7.0 MB/s eta 0:00:01\n",
      "   -------------------------------------- - 96.0/99.8 MB 7.0 MB/s eta 0:00:01\n",
      "   -------------------------------------- - 96.3/99.8 MB 6.9 MB/s eta 0:00:01\n",
      "   -------------------------------------- - 96.7/99.8 MB 7.1 MB/s eta 0:00:01\n",
      "   -------------------------------------- - 97.0/99.8 MB 7.3 MB/s eta 0:00:01\n",
      "   ---------------------------------------  97.3/99.8 MB 7.4 MB/s eta 0:00:01\n",
      "   ---------------------------------------  97.7/99.8 MB 7.4 MB/s eta 0:00:01\n",
      "   ---------------------------------------  98.1/99.8 MB 7.4 MB/s eta 0:00:01\n",
      "   ---------------------------------------  98.4/99.8 MB 7.4 MB/s eta 0:00:01\n",
      "   ---------------------------------------  98.7/99.8 MB 7.3 MB/s eta 0:00:01\n",
      "   ---------------------------------------  99.0/99.8 MB 7.2 MB/s eta 0:00:01\n",
      "   ---------------------------------------  99.5/99.8 MB 7.3 MB/s eta 0:00:01\n",
      "   ---------------------------------------  99.7/99.8 MB 7.3 MB/s eta 0:00:01\n",
      "   ---------------------------------------  99.7/99.8 MB 7.2 MB/s eta 0:00:01\n",
      "   ---------------------------------------  99.7/99.8 MB 7.2 MB/s eta 0:00:01\n",
      "   ---------------------------------------  99.7/99.8 MB 7.2 MB/s eta 0:00:01\n",
      "   ---------------------------------------  99.7/99.8 MB 7.2 MB/s eta 0:00:01\n",
      "   ---------------------------------------  99.7/99.8 MB 7.2 MB/s eta 0:00:01\n",
      "   ---------------------------------------  99.7/99.8 MB 7.2 MB/s eta 0:00:01\n",
      "   ---------------------------------------  99.7/99.8 MB 7.2 MB/s eta 0:00:01\n",
      "   ---------------------------------------- 99.8/99.8 MB 5.7 MB/s eta 0:00:00\n",
      "Installing collected packages: xgboost\n",
      "Successfully installed xgboost-2.0.3\n"
     ]
    }
   ],
   "source": [
    "!pip install xgboost"
   ]
  },
  {
   "cell_type": "code",
   "execution_count": 71,
   "id": "9b45eaa7-914e-447b-b364-8291670982b0",
   "metadata": {},
   "outputs": [],
   "source": [
    "from sklearn.svm import SVC\n",
    "from sklearn.neighbors import KNeighborsClassifier\n",
    "from sklearn.naive_bayes import MultinomialNB\n",
    "from sklearn.tree import DecisionTreeClassifier\n",
    "from sklearn.linear_model import LogisticRegression\n",
    "from sklearn.ensemble import RandomForestClassifier, AdaBoostClassifier, BaggingClassifier, ExtraTreesClassifier, GradientBoostingClassifier\n",
    "from xgboost import XGBClassifier  # Make sure to import XGBClassifier\n",
    "\n",
    "svc = SVC(kernel='sigmoid', gamma=1.0)\n",
    "knc = KNeighborsClassifier()\n",
    "mnb = MultinomialNB()\n",
    "dtc = DecisionTreeClassifier(max_depth=5)\n",
    "lrc = LogisticRegression(solver='liblinear', penalty='l1')\n",
    "rfc = RandomForestClassifier(n_estimators=50, random_state=2)\n",
    "abc = AdaBoostClassifier(n_estimators=50, random_state=2)\n",
    "bc = BaggingClassifier(n_estimators=50, random_state=2)\n",
    "etc = ExtraTreesClassifier(n_estimators=50, random_state=2)\n",
    "gbdt = GradientBoostingClassifier(n_estimators=50, random_state=2)\n",
    "xgb = XGBClassifier(n_estimators=50, random_state=2)  # Now it should work\n"
   ]
  },
  {
   "cell_type": "code",
   "execution_count": 72,
   "id": "61557428-2ac2-4d08-8c4c-9617c9920967",
   "metadata": {},
   "outputs": [],
   "source": [
    "\n",
    "clfs = {\n",
    "    'SVC' : svc,\n",
    "    'KN' : knc, \n",
    "    'NB': mnb, \n",
    "    'DT': dtc, \n",
    "    'LR': lrc, \n",
    "    'RF': rfc, \n",
    "    'AdaBoost': abc, \n",
    "    'BgC': bc, \n",
    "    'ETC': etc,\n",
    "    'GBDT':gbdt,\n",
    "    'xgb':xgb\n",
    "}\n",
    "def train_classifier(clf,X_train,y_train,X_test,y_test):\n",
    "    clf.fit(X_train,y_train)\n",
    "    y_pred = clf.predict(X_test)\n",
    "    accuracy = accuracy_score(y_test,y_pred)\n",
    "    precision = precision_score(y_test,y_pred)\n",
    "    \n",
    "    return accuracy,precision"
   ]
  },
  {
   "cell_type": "code",
   "execution_count": 73,
   "id": "6658a06d-faf3-4d1c-bad2-a97407ff7c72",
   "metadata": {},
   "outputs": [
    {
     "data": {
      "text/plain": [
       "(0.9758220502901354, 0.9747899159663865)"
      ]
     },
     "execution_count": 73,
     "metadata": {},
     "output_type": "execute_result"
    }
   ],
   "source": [
    "train_classifier(svc,X_train,y_train,X_test,y_test)"
   ]
  },
  {
   "cell_type": "code",
   "execution_count": 74,
   "id": "20cfb975-c533-43c3-a148-6ab6612ad454",
   "metadata": {},
   "outputs": [
    {
     "name": "stdout",
     "output_type": "stream",
     "text": [
      "For  SVC\n",
      "Accuracy -  0.9758220502901354\n",
      "Precision -  0.9747899159663865\n",
      "For  KN\n",
      "Accuracy -  0.9052224371373307\n",
      "Precision -  1.0\n",
      "For  NB\n",
      "Accuracy -  0.9709864603481625\n",
      "Precision -  1.0\n",
      "For  DT\n",
      "Accuracy -  0.9274661508704062\n",
      "Precision -  0.8118811881188119\n",
      "For  LR\n",
      "Accuracy -  0.9584139264990329\n",
      "Precision -  0.9702970297029703\n",
      "For  RF\n",
      "Accuracy -  0.9758220502901354\n",
      "Precision -  0.9829059829059829\n"
     ]
    },
    {
     "name": "stderr",
     "output_type": "stream",
     "text": [
      "C:\\Users\\Saru\\AppData\\Roaming\\Python\\Python312\\site-packages\\sklearn\\ensemble\\_weight_boosting.py:519: FutureWarning: The SAMME.R algorithm (the default) is deprecated and will be removed in 1.6. Use the SAMME algorithm to circumvent this warning.\n",
      "  warnings.warn(\n"
     ]
    },
    {
     "name": "stdout",
     "output_type": "stream",
     "text": [
      "For  AdaBoost\n",
      "Accuracy -  0.960348162475822\n",
      "Precision -  0.9292035398230089\n",
      "For  BgC\n",
      "Accuracy -  0.9584139264990329\n",
      "Precision -  0.8682170542635659\n",
      "For  ETC\n",
      "Accuracy -  0.9748549323017408\n",
      "Precision -  0.9745762711864406\n",
      "For  GBDT\n",
      "Accuracy -  0.9468085106382979\n",
      "Precision -  0.9191919191919192\n",
      "For  xgb\n",
      "Accuracy -  0.9671179883945842\n",
      "Precision -  0.9262295081967213\n"
     ]
    }
   ],
   "source": [
    "\n",
    "accuracy_scores = []\n",
    "precision_scores = []\n",
    "\n",
    "for name,clf in clfs.items():\n",
    "    \n",
    "    current_accuracy,current_precision = train_classifier(clf, X_train,y_train,X_test,y_test)\n",
    "    \n",
    "    print(\"For \",name)\n",
    "    print(\"Accuracy - \",current_accuracy)\n",
    "    print(\"Precision - \",current_precision)\n",
    "    \n",
    "    accuracy_scores.append(current_accuracy)\n",
    "    precision_scores.append(current_precision)"
   ]
  },
  {
   "cell_type": "code",
   "execution_count": 75,
   "id": "852d93f7-628c-4a8d-ba49-87ddebd9f088",
   "metadata": {},
   "outputs": [],
   "source": [
    "performance_df = pd.DataFrame({'Algorithm':clfs.keys(),'Accuracy':accuracy_scores,'Precision':precision_scores}).sort_values('Precision',ascending=False)\n"
   ]
  },
  {
   "cell_type": "code",
   "execution_count": 76,
   "id": "61ac1f96-cfc1-4f70-8abb-03aabf442a4a",
   "metadata": {},
   "outputs": [
    {
     "data": {
      "text/html": [
       "<div>\n",
       "<style scoped>\n",
       "    .dataframe tbody tr th:only-of-type {\n",
       "        vertical-align: middle;\n",
       "    }\n",
       "\n",
       "    .dataframe tbody tr th {\n",
       "        vertical-align: top;\n",
       "    }\n",
       "\n",
       "    .dataframe thead th {\n",
       "        text-align: right;\n",
       "    }\n",
       "</style>\n",
       "<table border=\"1\" class=\"dataframe\">\n",
       "  <thead>\n",
       "    <tr style=\"text-align: right;\">\n",
       "      <th></th>\n",
       "      <th>Algorithm</th>\n",
       "      <th>Accuracy</th>\n",
       "      <th>Precision</th>\n",
       "    </tr>\n",
       "  </thead>\n",
       "  <tbody>\n",
       "    <tr>\n",
       "      <th>1</th>\n",
       "      <td>KN</td>\n",
       "      <td>0.905222</td>\n",
       "      <td>1.000000</td>\n",
       "    </tr>\n",
       "    <tr>\n",
       "      <th>2</th>\n",
       "      <td>NB</td>\n",
       "      <td>0.970986</td>\n",
       "      <td>1.000000</td>\n",
       "    </tr>\n",
       "    <tr>\n",
       "      <th>5</th>\n",
       "      <td>RF</td>\n",
       "      <td>0.975822</td>\n",
       "      <td>0.982906</td>\n",
       "    </tr>\n",
       "    <tr>\n",
       "      <th>0</th>\n",
       "      <td>SVC</td>\n",
       "      <td>0.975822</td>\n",
       "      <td>0.974790</td>\n",
       "    </tr>\n",
       "    <tr>\n",
       "      <th>8</th>\n",
       "      <td>ETC</td>\n",
       "      <td>0.974855</td>\n",
       "      <td>0.974576</td>\n",
       "    </tr>\n",
       "    <tr>\n",
       "      <th>4</th>\n",
       "      <td>LR</td>\n",
       "      <td>0.958414</td>\n",
       "      <td>0.970297</td>\n",
       "    </tr>\n",
       "    <tr>\n",
       "      <th>6</th>\n",
       "      <td>AdaBoost</td>\n",
       "      <td>0.960348</td>\n",
       "      <td>0.929204</td>\n",
       "    </tr>\n",
       "    <tr>\n",
       "      <th>10</th>\n",
       "      <td>xgb</td>\n",
       "      <td>0.967118</td>\n",
       "      <td>0.926230</td>\n",
       "    </tr>\n",
       "    <tr>\n",
       "      <th>9</th>\n",
       "      <td>GBDT</td>\n",
       "      <td>0.946809</td>\n",
       "      <td>0.919192</td>\n",
       "    </tr>\n",
       "    <tr>\n",
       "      <th>7</th>\n",
       "      <td>BgC</td>\n",
       "      <td>0.958414</td>\n",
       "      <td>0.868217</td>\n",
       "    </tr>\n",
       "    <tr>\n",
       "      <th>3</th>\n",
       "      <td>DT</td>\n",
       "      <td>0.927466</td>\n",
       "      <td>0.811881</td>\n",
       "    </tr>\n",
       "  </tbody>\n",
       "</table>\n",
       "</div>"
      ],
      "text/plain": [
       "   Algorithm  Accuracy  Precision\n",
       "1         KN  0.905222   1.000000\n",
       "2         NB  0.970986   1.000000\n",
       "5         RF  0.975822   0.982906\n",
       "0        SVC  0.975822   0.974790\n",
       "8        ETC  0.974855   0.974576\n",
       "4         LR  0.958414   0.970297\n",
       "6   AdaBoost  0.960348   0.929204\n",
       "10       xgb  0.967118   0.926230\n",
       "9       GBDT  0.946809   0.919192\n",
       "7        BgC  0.958414   0.868217\n",
       "3         DT  0.927466   0.811881"
      ]
     },
     "execution_count": 76,
     "metadata": {},
     "output_type": "execute_result"
    }
   ],
   "source": [
    "\n",
    "performance_df"
   ]
  },
  {
   "cell_type": "code",
   "execution_count": 77,
   "id": "662cfe1e-68a1-40ca-bee9-73c51fd7e583",
   "metadata": {},
   "outputs": [],
   "source": [
    "\n",
    "performance_df1 = pd.melt(performance_df, id_vars = \"Algorithm\")"
   ]
  },
  {
   "cell_type": "code",
   "execution_count": 78,
   "id": "79c0b2fd-cc8f-490c-aa30-97a05a55e371",
   "metadata": {},
   "outputs": [
    {
     "data": {
      "text/html": [
       "<div>\n",
       "<style scoped>\n",
       "    .dataframe tbody tr th:only-of-type {\n",
       "        vertical-align: middle;\n",
       "    }\n",
       "\n",
       "    .dataframe tbody tr th {\n",
       "        vertical-align: top;\n",
       "    }\n",
       "\n",
       "    .dataframe thead th {\n",
       "        text-align: right;\n",
       "    }\n",
       "</style>\n",
       "<table border=\"1\" class=\"dataframe\">\n",
       "  <thead>\n",
       "    <tr style=\"text-align: right;\">\n",
       "      <th></th>\n",
       "      <th>Algorithm</th>\n",
       "      <th>variable</th>\n",
       "      <th>value</th>\n",
       "    </tr>\n",
       "  </thead>\n",
       "  <tbody>\n",
       "    <tr>\n",
       "      <th>0</th>\n",
       "      <td>KN</td>\n",
       "      <td>Accuracy</td>\n",
       "      <td>0.905222</td>\n",
       "    </tr>\n",
       "    <tr>\n",
       "      <th>1</th>\n",
       "      <td>NB</td>\n",
       "      <td>Accuracy</td>\n",
       "      <td>0.970986</td>\n",
       "    </tr>\n",
       "    <tr>\n",
       "      <th>2</th>\n",
       "      <td>RF</td>\n",
       "      <td>Accuracy</td>\n",
       "      <td>0.975822</td>\n",
       "    </tr>\n",
       "    <tr>\n",
       "      <th>3</th>\n",
       "      <td>SVC</td>\n",
       "      <td>Accuracy</td>\n",
       "      <td>0.975822</td>\n",
       "    </tr>\n",
       "    <tr>\n",
       "      <th>4</th>\n",
       "      <td>ETC</td>\n",
       "      <td>Accuracy</td>\n",
       "      <td>0.974855</td>\n",
       "    </tr>\n",
       "    <tr>\n",
       "      <th>5</th>\n",
       "      <td>LR</td>\n",
       "      <td>Accuracy</td>\n",
       "      <td>0.958414</td>\n",
       "    </tr>\n",
       "    <tr>\n",
       "      <th>6</th>\n",
       "      <td>AdaBoost</td>\n",
       "      <td>Accuracy</td>\n",
       "      <td>0.960348</td>\n",
       "    </tr>\n",
       "    <tr>\n",
       "      <th>7</th>\n",
       "      <td>xgb</td>\n",
       "      <td>Accuracy</td>\n",
       "      <td>0.967118</td>\n",
       "    </tr>\n",
       "    <tr>\n",
       "      <th>8</th>\n",
       "      <td>GBDT</td>\n",
       "      <td>Accuracy</td>\n",
       "      <td>0.946809</td>\n",
       "    </tr>\n",
       "    <tr>\n",
       "      <th>9</th>\n",
       "      <td>BgC</td>\n",
       "      <td>Accuracy</td>\n",
       "      <td>0.958414</td>\n",
       "    </tr>\n",
       "    <tr>\n",
       "      <th>10</th>\n",
       "      <td>DT</td>\n",
       "      <td>Accuracy</td>\n",
       "      <td>0.927466</td>\n",
       "    </tr>\n",
       "    <tr>\n",
       "      <th>11</th>\n",
       "      <td>KN</td>\n",
       "      <td>Precision</td>\n",
       "      <td>1.000000</td>\n",
       "    </tr>\n",
       "    <tr>\n",
       "      <th>12</th>\n",
       "      <td>NB</td>\n",
       "      <td>Precision</td>\n",
       "      <td>1.000000</td>\n",
       "    </tr>\n",
       "    <tr>\n",
       "      <th>13</th>\n",
       "      <td>RF</td>\n",
       "      <td>Precision</td>\n",
       "      <td>0.982906</td>\n",
       "    </tr>\n",
       "    <tr>\n",
       "      <th>14</th>\n",
       "      <td>SVC</td>\n",
       "      <td>Precision</td>\n",
       "      <td>0.974790</td>\n",
       "    </tr>\n",
       "    <tr>\n",
       "      <th>15</th>\n",
       "      <td>ETC</td>\n",
       "      <td>Precision</td>\n",
       "      <td>0.974576</td>\n",
       "    </tr>\n",
       "    <tr>\n",
       "      <th>16</th>\n",
       "      <td>LR</td>\n",
       "      <td>Precision</td>\n",
       "      <td>0.970297</td>\n",
       "    </tr>\n",
       "    <tr>\n",
       "      <th>17</th>\n",
       "      <td>AdaBoost</td>\n",
       "      <td>Precision</td>\n",
       "      <td>0.929204</td>\n",
       "    </tr>\n",
       "    <tr>\n",
       "      <th>18</th>\n",
       "      <td>xgb</td>\n",
       "      <td>Precision</td>\n",
       "      <td>0.926230</td>\n",
       "    </tr>\n",
       "    <tr>\n",
       "      <th>19</th>\n",
       "      <td>GBDT</td>\n",
       "      <td>Precision</td>\n",
       "      <td>0.919192</td>\n",
       "    </tr>\n",
       "    <tr>\n",
       "      <th>20</th>\n",
       "      <td>BgC</td>\n",
       "      <td>Precision</td>\n",
       "      <td>0.868217</td>\n",
       "    </tr>\n",
       "    <tr>\n",
       "      <th>21</th>\n",
       "      <td>DT</td>\n",
       "      <td>Precision</td>\n",
       "      <td>0.811881</td>\n",
       "    </tr>\n",
       "  </tbody>\n",
       "</table>\n",
       "</div>"
      ],
      "text/plain": [
       "   Algorithm   variable     value\n",
       "0         KN   Accuracy  0.905222\n",
       "1         NB   Accuracy  0.970986\n",
       "2         RF   Accuracy  0.975822\n",
       "3        SVC   Accuracy  0.975822\n",
       "4        ETC   Accuracy  0.974855\n",
       "5         LR   Accuracy  0.958414\n",
       "6   AdaBoost   Accuracy  0.960348\n",
       "7        xgb   Accuracy  0.967118\n",
       "8       GBDT   Accuracy  0.946809\n",
       "9        BgC   Accuracy  0.958414\n",
       "10        DT   Accuracy  0.927466\n",
       "11        KN  Precision  1.000000\n",
       "12        NB  Precision  1.000000\n",
       "13        RF  Precision  0.982906\n",
       "14       SVC  Precision  0.974790\n",
       "15       ETC  Precision  0.974576\n",
       "16        LR  Precision  0.970297\n",
       "17  AdaBoost  Precision  0.929204\n",
       "18       xgb  Precision  0.926230\n",
       "19      GBDT  Precision  0.919192\n",
       "20       BgC  Precision  0.868217\n",
       "21        DT  Precision  0.811881"
      ]
     },
     "execution_count": 78,
     "metadata": {},
     "output_type": "execute_result"
    }
   ],
   "source": [
    "\n",
    "performance_df1"
   ]
  },
  {
   "cell_type": "code",
   "execution_count": 79,
   "id": "f462fb44-5226-459c-b06d-d545ef453f1e",
   "metadata": {},
   "outputs": [
    {
     "ename": "NameError",
     "evalue": "name 'sns' is not defined",
     "output_type": "error",
     "traceback": [
      "\u001b[1;31m---------------------------------------------------------------------------\u001b[0m",
      "\u001b[1;31mNameError\u001b[0m                                 Traceback (most recent call last)",
      "Cell \u001b[1;32mIn[79], line 1\u001b[0m\n\u001b[1;32m----> 1\u001b[0m \u001b[43msns\u001b[49m\u001b[38;5;241m.\u001b[39mcatplot(x \u001b[38;5;241m=\u001b[39m \u001b[38;5;124m'\u001b[39m\u001b[38;5;124mAlgorithm\u001b[39m\u001b[38;5;124m'\u001b[39m, y\u001b[38;5;241m=\u001b[39m\u001b[38;5;124m'\u001b[39m\u001b[38;5;124mvalue\u001b[39m\u001b[38;5;124m'\u001b[39m, \n\u001b[0;32m      2\u001b[0m                hue \u001b[38;5;241m=\u001b[39m \u001b[38;5;124m'\u001b[39m\u001b[38;5;124mvariable\u001b[39m\u001b[38;5;124m'\u001b[39m,data\u001b[38;5;241m=\u001b[39mperformance_df1, kind\u001b[38;5;241m=\u001b[39m\u001b[38;5;124m'\u001b[39m\u001b[38;5;124mbar\u001b[39m\u001b[38;5;124m'\u001b[39m,height\u001b[38;5;241m=\u001b[39m\u001b[38;5;241m5\u001b[39m)\n\u001b[0;32m      3\u001b[0m plt\u001b[38;5;241m.\u001b[39mylim(\u001b[38;5;241m0.5\u001b[39m,\u001b[38;5;241m1.0\u001b[39m)\n\u001b[0;32m      4\u001b[0m plt\u001b[38;5;241m.\u001b[39mxticks(rotation\u001b[38;5;241m=\u001b[39m\u001b[38;5;124m'\u001b[39m\u001b[38;5;124mvertical\u001b[39m\u001b[38;5;124m'\u001b[39m)\n",
      "\u001b[1;31mNameError\u001b[0m: name 'sns' is not defined"
     ]
    }
   ],
   "source": [
    "\n",
    "sns.catplot(x = 'Algorithm', y='value', \n",
    "               hue = 'variable',data=performance_df1, kind='bar',height=5)\n",
    "plt.ylim(0.5,1.0)\n",
    "plt.xticks(rotation='vertical')\n",
    "plt.show()"
   ]
  },
  {
   "cell_type": "code",
   "execution_count": null,
   "id": "68109f28-7e93-4131-b110-2854d660ffa4",
   "metadata": {},
   "outputs": [],
   "source": []
  },
  {
   "cell_type": "code",
   "execution_count": null,
   "id": "08169a40-4125-4e9f-9544-656b9dfb3f28",
   "metadata": {},
   "outputs": [],
   "source": [
    "import pickle\n",
    "pickle.dump(tfidf,open('vectorizer.pkl','wb'))\n",
    "pickle.dump(mnb,open('model.pkl','wb'))"
   ]
  },
  {
   "cell_type": "code",
   "execution_count": null,
   "id": "9ea09b85-315a-46a2-9510-fa7abb29acbb",
   "metadata": {},
   "outputs": [],
   "source": []
  }
 ],
 "metadata": {
  "kernelspec": {
   "display_name": "Python 3 (ipykernel)",
   "language": "python",
   "name": "python3"
  },
  "language_info": {
   "codemirror_mode": {
    "name": "ipython",
    "version": 3
   },
   "file_extension": ".py",
   "mimetype": "text/x-python",
   "name": "python",
   "nbconvert_exporter": "python",
   "pygments_lexer": "ipython3",
   "version": "3.12.1"
  }
 },
 "nbformat": 4,
 "nbformat_minor": 5
}
